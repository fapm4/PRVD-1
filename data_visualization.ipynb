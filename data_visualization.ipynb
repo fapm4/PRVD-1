{
 "cells": [
  {
   "cell_type": "code",
   "execution_count": 1,
   "metadata": {},
   "outputs": [],
   "source": [
    "import pandas as pd\n",
    "import requests\n",
    "from bs4 import BeautifulSoup\n",
    "import plotly.express as px\n",
    "import re\n",
    "import tabula\n",
    "import fitz\n",
    "import dash\n",
    "from dash import dcc, html\n",
    "from dash.dependencies import Input, Output\n",
    "import os\n",
    "import plotly.graph_objects as go"
   ]
  },
  {
   "cell_type": "code",
   "execution_count": 2,
   "metadata": {},
   "outputs": [],
   "source": [
    "headers = {\n",
    "\t'User-Agent': 'Mozilla/5.0 (Windows NT 10.0; Win64; x64) AppleWebKit/537.36 (KHTML, like Gecko) Chrome/91.0.4472.124 Safari/537.36'\n",
    "}\n",
    "\n",
    "def clean_text(value):\n",
    "\tvalue = re.sub('<.*?>', '', value)\n",
    "\treturn value.strip()\n",
    "\n",
    "def extract_row(tds, col_names):\n",
    "\treturn {col: clean_text(str(tds[i])) for i, col in enumerate(col_names)}\n",
    "\n",
    "\n",
    "def get_table(url):\n",
    "\ttry:\n",
    "\t\tresponse = requests.get(url, headers=headers)\n",
    "\t\tresponse.raise_for_status()\n",
    "\t\tsoup = BeautifulSoup(response.content, 'html.parser')\n",
    "\t\ttable = soup.find('table', {'id': 'statTableHTML'})\n",
    "\t\tif table is None:\n",
    "\t\t\traise ValueError(\"No se encontró la tabla en la página.\")\n",
    "\t\treturn table\n",
    "\texcept requests.exceptions.RequestException as e:\n",
    "\t\tprint(f\"Error al realizar la solicitud: {e}\")\n",
    "\t\treturn None\n",
    "\t\n",
    "def process_table(url = None, table = None, col_names = None):\n",
    "\tif table is None:\n",
    "\t\ttable = get_table(url)\n",
    "\t\tif table is None:\n",
    "\t\t\treturn pd.DataFrame()\n",
    "\n",
    "\ttrs = table.find_all('tr')\n",
    "\tresults = []\n",
    "\tfor tr in trs[1:]:  # Skip the header row\n",
    "\t\ttds = tr.find_all('td')\n",
    "\t\tif len(tds) == len(col_names):\n",
    "\t\t\trow_result = extract_row(tds, col_names)\n",
    "\t\t\tresults.append(row_result)\n",
    "\n",
    "\treturn pd.DataFrame(results)\n",
    "\n",
    "dataset_path = os.path.join(os.getcwd(), 'datasets')\n",
    "input_datasets = os.path.join(dataset_path, 'input')\n",
    "output_datasets = os.path.join(dataset_path, 'output')"
   ]
  },
  {
   "cell_type": "code",
   "execution_count": 3,
   "metadata": {},
   "outputs": [
    {
     "data": {
      "application/vnd.plotly.v1+json": {
       "config": {
        "plotlyServerURL": "https://plot.ly"
       },
       "data": [
        {
         "alignmentgroup": "True",
         "hovertemplate": "Año=%{x}<br>Minutos=%{y}<extra></extra>",
         "legendgroup": "",
         "marker": {
          "color": "#636efa",
          "pattern": {
           "shape": ""
          }
         },
         "name": "",
         "offsetgroup": "",
         "orientation": "v",
         "showlegend": false,
         "textposition": "auto",
         "type": "bar",
         "x": [
          "2012",
          "2013",
          "2014",
          "2015",
          "2016",
          "2017",
          "2018",
          "2019",
          "2020",
          "2021",
          "2022",
          "2023",
          "2024"
         ],
         "xaxis": "x",
         "y": [
          90,
          95,
          104,
          111,
          128,
          134,
          142,
          145,
          145,
          145,
          147,
          151,
          143
         ],
         "yaxis": "y"
        }
       ],
       "layout": {
        "barmode": "relative",
        "legend": {
         "tracegroupgap": 0
        },
        "template": {
         "data": {
          "bar": [
           {
            "error_x": {
             "color": "#2a3f5f"
            },
            "error_y": {
             "color": "#2a3f5f"
            },
            "marker": {
             "line": {
              "color": "#E5ECF6",
              "width": 0.5
             },
             "pattern": {
              "fillmode": "overlay",
              "size": 10,
              "solidity": 0.2
             }
            },
            "type": "bar"
           }
          ],
          "barpolar": [
           {
            "marker": {
             "line": {
              "color": "#E5ECF6",
              "width": 0.5
             },
             "pattern": {
              "fillmode": "overlay",
              "size": 10,
              "solidity": 0.2
             }
            },
            "type": "barpolar"
           }
          ],
          "carpet": [
           {
            "aaxis": {
             "endlinecolor": "#2a3f5f",
             "gridcolor": "white",
             "linecolor": "white",
             "minorgridcolor": "white",
             "startlinecolor": "#2a3f5f"
            },
            "baxis": {
             "endlinecolor": "#2a3f5f",
             "gridcolor": "white",
             "linecolor": "white",
             "minorgridcolor": "white",
             "startlinecolor": "#2a3f5f"
            },
            "type": "carpet"
           }
          ],
          "choropleth": [
           {
            "colorbar": {
             "outlinewidth": 0,
             "ticks": ""
            },
            "type": "choropleth"
           }
          ],
          "contour": [
           {
            "colorbar": {
             "outlinewidth": 0,
             "ticks": ""
            },
            "colorscale": [
             [
              0,
              "#0d0887"
             ],
             [
              0.1111111111111111,
              "#46039f"
             ],
             [
              0.2222222222222222,
              "#7201a8"
             ],
             [
              0.3333333333333333,
              "#9c179e"
             ],
             [
              0.4444444444444444,
              "#bd3786"
             ],
             [
              0.5555555555555556,
              "#d8576b"
             ],
             [
              0.6666666666666666,
              "#ed7953"
             ],
             [
              0.7777777777777778,
              "#fb9f3a"
             ],
             [
              0.8888888888888888,
              "#fdca26"
             ],
             [
              1,
              "#f0f921"
             ]
            ],
            "type": "contour"
           }
          ],
          "contourcarpet": [
           {
            "colorbar": {
             "outlinewidth": 0,
             "ticks": ""
            },
            "type": "contourcarpet"
           }
          ],
          "heatmap": [
           {
            "colorbar": {
             "outlinewidth": 0,
             "ticks": ""
            },
            "colorscale": [
             [
              0,
              "#0d0887"
             ],
             [
              0.1111111111111111,
              "#46039f"
             ],
             [
              0.2222222222222222,
              "#7201a8"
             ],
             [
              0.3333333333333333,
              "#9c179e"
             ],
             [
              0.4444444444444444,
              "#bd3786"
             ],
             [
              0.5555555555555556,
              "#d8576b"
             ],
             [
              0.6666666666666666,
              "#ed7953"
             ],
             [
              0.7777777777777778,
              "#fb9f3a"
             ],
             [
              0.8888888888888888,
              "#fdca26"
             ],
             [
              1,
              "#f0f921"
             ]
            ],
            "type": "heatmap"
           }
          ],
          "heatmapgl": [
           {
            "colorbar": {
             "outlinewidth": 0,
             "ticks": ""
            },
            "colorscale": [
             [
              0,
              "#0d0887"
             ],
             [
              0.1111111111111111,
              "#46039f"
             ],
             [
              0.2222222222222222,
              "#7201a8"
             ],
             [
              0.3333333333333333,
              "#9c179e"
             ],
             [
              0.4444444444444444,
              "#bd3786"
             ],
             [
              0.5555555555555556,
              "#d8576b"
             ],
             [
              0.6666666666666666,
              "#ed7953"
             ],
             [
              0.7777777777777778,
              "#fb9f3a"
             ],
             [
              0.8888888888888888,
              "#fdca26"
             ],
             [
              1,
              "#f0f921"
             ]
            ],
            "type": "heatmapgl"
           }
          ],
          "histogram": [
           {
            "marker": {
             "pattern": {
              "fillmode": "overlay",
              "size": 10,
              "solidity": 0.2
             }
            },
            "type": "histogram"
           }
          ],
          "histogram2d": [
           {
            "colorbar": {
             "outlinewidth": 0,
             "ticks": ""
            },
            "colorscale": [
             [
              0,
              "#0d0887"
             ],
             [
              0.1111111111111111,
              "#46039f"
             ],
             [
              0.2222222222222222,
              "#7201a8"
             ],
             [
              0.3333333333333333,
              "#9c179e"
             ],
             [
              0.4444444444444444,
              "#bd3786"
             ],
             [
              0.5555555555555556,
              "#d8576b"
             ],
             [
              0.6666666666666666,
              "#ed7953"
             ],
             [
              0.7777777777777778,
              "#fb9f3a"
             ],
             [
              0.8888888888888888,
              "#fdca26"
             ],
             [
              1,
              "#f0f921"
             ]
            ],
            "type": "histogram2d"
           }
          ],
          "histogram2dcontour": [
           {
            "colorbar": {
             "outlinewidth": 0,
             "ticks": ""
            },
            "colorscale": [
             [
              0,
              "#0d0887"
             ],
             [
              0.1111111111111111,
              "#46039f"
             ],
             [
              0.2222222222222222,
              "#7201a8"
             ],
             [
              0.3333333333333333,
              "#9c179e"
             ],
             [
              0.4444444444444444,
              "#bd3786"
             ],
             [
              0.5555555555555556,
              "#d8576b"
             ],
             [
              0.6666666666666666,
              "#ed7953"
             ],
             [
              0.7777777777777778,
              "#fb9f3a"
             ],
             [
              0.8888888888888888,
              "#fdca26"
             ],
             [
              1,
              "#f0f921"
             ]
            ],
            "type": "histogram2dcontour"
           }
          ],
          "mesh3d": [
           {
            "colorbar": {
             "outlinewidth": 0,
             "ticks": ""
            },
            "type": "mesh3d"
           }
          ],
          "parcoords": [
           {
            "line": {
             "colorbar": {
              "outlinewidth": 0,
              "ticks": ""
             }
            },
            "type": "parcoords"
           }
          ],
          "pie": [
           {
            "automargin": true,
            "type": "pie"
           }
          ],
          "scatter": [
           {
            "fillpattern": {
             "fillmode": "overlay",
             "size": 10,
             "solidity": 0.2
            },
            "type": "scatter"
           }
          ],
          "scatter3d": [
           {
            "line": {
             "colorbar": {
              "outlinewidth": 0,
              "ticks": ""
             }
            },
            "marker": {
             "colorbar": {
              "outlinewidth": 0,
              "ticks": ""
             }
            },
            "type": "scatter3d"
           }
          ],
          "scattercarpet": [
           {
            "marker": {
             "colorbar": {
              "outlinewidth": 0,
              "ticks": ""
             }
            },
            "type": "scattercarpet"
           }
          ],
          "scattergeo": [
           {
            "marker": {
             "colorbar": {
              "outlinewidth": 0,
              "ticks": ""
             }
            },
            "type": "scattergeo"
           }
          ],
          "scattergl": [
           {
            "marker": {
             "colorbar": {
              "outlinewidth": 0,
              "ticks": ""
             }
            },
            "type": "scattergl"
           }
          ],
          "scattermapbox": [
           {
            "marker": {
             "colorbar": {
              "outlinewidth": 0,
              "ticks": ""
             }
            },
            "type": "scattermapbox"
           }
          ],
          "scatterpolar": [
           {
            "marker": {
             "colorbar": {
              "outlinewidth": 0,
              "ticks": ""
             }
            },
            "type": "scatterpolar"
           }
          ],
          "scatterpolargl": [
           {
            "marker": {
             "colorbar": {
              "outlinewidth": 0,
              "ticks": ""
             }
            },
            "type": "scatterpolargl"
           }
          ],
          "scatterternary": [
           {
            "marker": {
             "colorbar": {
              "outlinewidth": 0,
              "ticks": ""
             }
            },
            "type": "scatterternary"
           }
          ],
          "surface": [
           {
            "colorbar": {
             "outlinewidth": 0,
             "ticks": ""
            },
            "colorscale": [
             [
              0,
              "#0d0887"
             ],
             [
              0.1111111111111111,
              "#46039f"
             ],
             [
              0.2222222222222222,
              "#7201a8"
             ],
             [
              0.3333333333333333,
              "#9c179e"
             ],
             [
              0.4444444444444444,
              "#bd3786"
             ],
             [
              0.5555555555555556,
              "#d8576b"
             ],
             [
              0.6666666666666666,
              "#ed7953"
             ],
             [
              0.7777777777777778,
              "#fb9f3a"
             ],
             [
              0.8888888888888888,
              "#fdca26"
             ],
             [
              1,
              "#f0f921"
             ]
            ],
            "type": "surface"
           }
          ],
          "table": [
           {
            "cells": {
             "fill": {
              "color": "#EBF0F8"
             },
             "line": {
              "color": "white"
             }
            },
            "header": {
             "fill": {
              "color": "#C8D4E3"
             },
             "line": {
              "color": "white"
             }
            },
            "type": "table"
           }
          ]
         },
         "layout": {
          "annotationdefaults": {
           "arrowcolor": "#2a3f5f",
           "arrowhead": 0,
           "arrowwidth": 1
          },
          "autotypenumbers": "strict",
          "coloraxis": {
           "colorbar": {
            "outlinewidth": 0,
            "ticks": ""
           }
          },
          "colorscale": {
           "diverging": [
            [
             0,
             "#8e0152"
            ],
            [
             0.1,
             "#c51b7d"
            ],
            [
             0.2,
             "#de77ae"
            ],
            [
             0.3,
             "#f1b6da"
            ],
            [
             0.4,
             "#fde0ef"
            ],
            [
             0.5,
             "#f7f7f7"
            ],
            [
             0.6,
             "#e6f5d0"
            ],
            [
             0.7,
             "#b8e186"
            ],
            [
             0.8,
             "#7fbc41"
            ],
            [
             0.9,
             "#4d9221"
            ],
            [
             1,
             "#276419"
            ]
           ],
           "sequential": [
            [
             0,
             "#0d0887"
            ],
            [
             0.1111111111111111,
             "#46039f"
            ],
            [
             0.2222222222222222,
             "#7201a8"
            ],
            [
             0.3333333333333333,
             "#9c179e"
            ],
            [
             0.4444444444444444,
             "#bd3786"
            ],
            [
             0.5555555555555556,
             "#d8576b"
            ],
            [
             0.6666666666666666,
             "#ed7953"
            ],
            [
             0.7777777777777778,
             "#fb9f3a"
            ],
            [
             0.8888888888888888,
             "#fdca26"
            ],
            [
             1,
             "#f0f921"
            ]
           ],
           "sequentialminus": [
            [
             0,
             "#0d0887"
            ],
            [
             0.1111111111111111,
             "#46039f"
            ],
            [
             0.2222222222222222,
             "#7201a8"
            ],
            [
             0.3333333333333333,
             "#9c179e"
            ],
            [
             0.4444444444444444,
             "#bd3786"
            ],
            [
             0.5555555555555556,
             "#d8576b"
            ],
            [
             0.6666666666666666,
             "#ed7953"
            ],
            [
             0.7777777777777778,
             "#fb9f3a"
            ],
            [
             0.8888888888888888,
             "#fdca26"
            ],
            [
             1,
             "#f0f921"
            ]
           ]
          },
          "colorway": [
           "#636efa",
           "#EF553B",
           "#00cc96",
           "#ab63fa",
           "#FFA15A",
           "#19d3f3",
           "#FF6692",
           "#B6E880",
           "#FF97FF",
           "#FECB52"
          ],
          "font": {
           "color": "#2a3f5f"
          },
          "geo": {
           "bgcolor": "white",
           "lakecolor": "white",
           "landcolor": "#E5ECF6",
           "showlakes": true,
           "showland": true,
           "subunitcolor": "white"
          },
          "hoverlabel": {
           "align": "left"
          },
          "hovermode": "closest",
          "mapbox": {
           "style": "light"
          },
          "paper_bgcolor": "white",
          "plot_bgcolor": "#E5ECF6",
          "polar": {
           "angularaxis": {
            "gridcolor": "white",
            "linecolor": "white",
            "ticks": ""
           },
           "bgcolor": "#E5ECF6",
           "radialaxis": {
            "gridcolor": "white",
            "linecolor": "white",
            "ticks": ""
           }
          },
          "scene": {
           "xaxis": {
            "backgroundcolor": "#E5ECF6",
            "gridcolor": "white",
            "gridwidth": 2,
            "linecolor": "white",
            "showbackground": true,
            "ticks": "",
            "zerolinecolor": "white"
           },
           "yaxis": {
            "backgroundcolor": "#E5ECF6",
            "gridcolor": "white",
            "gridwidth": 2,
            "linecolor": "white",
            "showbackground": true,
            "ticks": "",
            "zerolinecolor": "white"
           },
           "zaxis": {
            "backgroundcolor": "#E5ECF6",
            "gridcolor": "white",
            "gridwidth": 2,
            "linecolor": "white",
            "showbackground": true,
            "ticks": "",
            "zerolinecolor": "white"
           }
          },
          "shapedefaults": {
           "line": {
            "color": "#2a3f5f"
           }
          },
          "ternary": {
           "aaxis": {
            "gridcolor": "white",
            "linecolor": "white",
            "ticks": ""
           },
           "baxis": {
            "gridcolor": "white",
            "linecolor": "white",
            "ticks": ""
           },
           "bgcolor": "#E5ECF6",
           "caxis": {
            "gridcolor": "white",
            "linecolor": "white",
            "ticks": ""
           }
          },
          "title": {
           "x": 0.05
          },
          "xaxis": {
           "automargin": true,
           "gridcolor": "white",
           "linecolor": "white",
           "ticks": "",
           "title": {
            "standoff": 15
           },
           "zerolinecolor": "white",
           "zerolinewidth": 2
          },
          "yaxis": {
           "automargin": true,
           "gridcolor": "white",
           "linecolor": "white",
           "ticks": "",
           "title": {
            "standoff": 15
           },
           "zerolinecolor": "white",
           "zerolinewidth": 2
          }
         }
        },
        "title": {
         "text": "Crecimiento anual de minutos empleados en redes sociales",
         "x": 0.5
        },
        "xaxis": {
         "anchor": "y",
         "domain": [
          0,
          1
         ],
         "title": {
          "text": "Año"
         }
        },
        "yaxis": {
         "anchor": "x",
         "domain": [
          0,
          1
         ],
         "range": [
          50,
          161
         ],
         "title": {
          "text": "Minutos"
         }
        }
       }
      }
     },
     "metadata": {},
     "output_type": "display_data"
    }
   ],
   "source": [
    "url1 = 'https://www.statista.com/statistics/433871/daily-social-media-usage-worldwide'\n",
    "df1 = process_table(url=url1, col_names=['Año', 'Minutos'])\n",
    "df1.to_csv(os.path.join(output_datasets, 'sm_mins_growth.csv'), index=False)\n",
    "\n",
    "if not df1.empty:\n",
    "\tdf1['Minutos'] = pd.to_numeric(df1['Minutos'], errors='coerce')\n",
    "\tdf1 = df1.sort_values(by=\"Año\")\n",
    "\n",
    "\tfig1 = px.bar(df1, x=\"Año\", y=\"Minutos\", title='Crecimiento anual de minutos empleados en redes sociales')\n",
    "\tfig1.update_layout(\n",
    "\t\tyaxis=dict(range=[50, df1[\"Minutos\"].max() + 10], title=\"Minutos\"),\n",
    "\t\txaxis_title=\"Año\",\n",
    "\t\ttitle=dict(x=0.5)\n",
    "\t)\n",
    "\tfig1.show()"
   ]
  },
  {
   "cell_type": "code",
   "execution_count": 4,
   "metadata": {},
   "outputs": [
    {
     "data": {
      "application/vnd.plotly.v1+json": {
       "config": {
        "plotlyServerURL": "https://plot.ly"
       },
       "data": [
        {
         "domain": {
          "x": [
           0,
           1
          ],
          "y": [
           0,
           1
          ]
         },
         "hovertemplate": "Página=%{label}<br>Visitas=%{value}<extra></extra>",
         "labels": [
          "Google.com",
          "YouTube.com",
          "Facebook.com",
          "Pornhub.com",
          "Xvideos.com",
          "Wikipedia.org",
          "Twitter.com",
          "Instagram.com",
          "Reddit.com",
          "DuckDuckGo.com",
          "Spankbang.com",
          "Yahoo.com",
          "Amazon.com",
          "Xnxx.com",
          "Bing.com",
          "Tiktok.com",
          "Yahoo.co.jp",
          "Weather.com",
          "Fandom.com",
          "Whatsapp.com"
         ],
         "legendgroup": "",
         "name": "",
         "showlegend": true,
         "type": "pie",
         "values": [
          175,
          113,
          18.1,
          12.8,
          8.96,
          8.46,
          8.39,
          7.36,
          7.05,
          4.55,
          4.44,
          4.24,
          4.23,
          4.22,
          3.96,
          3.69,
          3.29,
          3.25,
          3.07,
          3.06
         ]
        }
       ],
       "layout": {
        "legend": {
         "tracegroupgap": 0
        },
        "template": {
         "data": {
          "bar": [
           {
            "error_x": {
             "color": "#2a3f5f"
            },
            "error_y": {
             "color": "#2a3f5f"
            },
            "marker": {
             "line": {
              "color": "#E5ECF6",
              "width": 0.5
             },
             "pattern": {
              "fillmode": "overlay",
              "size": 10,
              "solidity": 0.2
             }
            },
            "type": "bar"
           }
          ],
          "barpolar": [
           {
            "marker": {
             "line": {
              "color": "#E5ECF6",
              "width": 0.5
             },
             "pattern": {
              "fillmode": "overlay",
              "size": 10,
              "solidity": 0.2
             }
            },
            "type": "barpolar"
           }
          ],
          "carpet": [
           {
            "aaxis": {
             "endlinecolor": "#2a3f5f",
             "gridcolor": "white",
             "linecolor": "white",
             "minorgridcolor": "white",
             "startlinecolor": "#2a3f5f"
            },
            "baxis": {
             "endlinecolor": "#2a3f5f",
             "gridcolor": "white",
             "linecolor": "white",
             "minorgridcolor": "white",
             "startlinecolor": "#2a3f5f"
            },
            "type": "carpet"
           }
          ],
          "choropleth": [
           {
            "colorbar": {
             "outlinewidth": 0,
             "ticks": ""
            },
            "type": "choropleth"
           }
          ],
          "contour": [
           {
            "colorbar": {
             "outlinewidth": 0,
             "ticks": ""
            },
            "colorscale": [
             [
              0,
              "#0d0887"
             ],
             [
              0.1111111111111111,
              "#46039f"
             ],
             [
              0.2222222222222222,
              "#7201a8"
             ],
             [
              0.3333333333333333,
              "#9c179e"
             ],
             [
              0.4444444444444444,
              "#bd3786"
             ],
             [
              0.5555555555555556,
              "#d8576b"
             ],
             [
              0.6666666666666666,
              "#ed7953"
             ],
             [
              0.7777777777777778,
              "#fb9f3a"
             ],
             [
              0.8888888888888888,
              "#fdca26"
             ],
             [
              1,
              "#f0f921"
             ]
            ],
            "type": "contour"
           }
          ],
          "contourcarpet": [
           {
            "colorbar": {
             "outlinewidth": 0,
             "ticks": ""
            },
            "type": "contourcarpet"
           }
          ],
          "heatmap": [
           {
            "colorbar": {
             "outlinewidth": 0,
             "ticks": ""
            },
            "colorscale": [
             [
              0,
              "#0d0887"
             ],
             [
              0.1111111111111111,
              "#46039f"
             ],
             [
              0.2222222222222222,
              "#7201a8"
             ],
             [
              0.3333333333333333,
              "#9c179e"
             ],
             [
              0.4444444444444444,
              "#bd3786"
             ],
             [
              0.5555555555555556,
              "#d8576b"
             ],
             [
              0.6666666666666666,
              "#ed7953"
             ],
             [
              0.7777777777777778,
              "#fb9f3a"
             ],
             [
              0.8888888888888888,
              "#fdca26"
             ],
             [
              1,
              "#f0f921"
             ]
            ],
            "type": "heatmap"
           }
          ],
          "heatmapgl": [
           {
            "colorbar": {
             "outlinewidth": 0,
             "ticks": ""
            },
            "colorscale": [
             [
              0,
              "#0d0887"
             ],
             [
              0.1111111111111111,
              "#46039f"
             ],
             [
              0.2222222222222222,
              "#7201a8"
             ],
             [
              0.3333333333333333,
              "#9c179e"
             ],
             [
              0.4444444444444444,
              "#bd3786"
             ],
             [
              0.5555555555555556,
              "#d8576b"
             ],
             [
              0.6666666666666666,
              "#ed7953"
             ],
             [
              0.7777777777777778,
              "#fb9f3a"
             ],
             [
              0.8888888888888888,
              "#fdca26"
             ],
             [
              1,
              "#f0f921"
             ]
            ],
            "type": "heatmapgl"
           }
          ],
          "histogram": [
           {
            "marker": {
             "pattern": {
              "fillmode": "overlay",
              "size": 10,
              "solidity": 0.2
             }
            },
            "type": "histogram"
           }
          ],
          "histogram2d": [
           {
            "colorbar": {
             "outlinewidth": 0,
             "ticks": ""
            },
            "colorscale": [
             [
              0,
              "#0d0887"
             ],
             [
              0.1111111111111111,
              "#46039f"
             ],
             [
              0.2222222222222222,
              "#7201a8"
             ],
             [
              0.3333333333333333,
              "#9c179e"
             ],
             [
              0.4444444444444444,
              "#bd3786"
             ],
             [
              0.5555555555555556,
              "#d8576b"
             ],
             [
              0.6666666666666666,
              "#ed7953"
             ],
             [
              0.7777777777777778,
              "#fb9f3a"
             ],
             [
              0.8888888888888888,
              "#fdca26"
             ],
             [
              1,
              "#f0f921"
             ]
            ],
            "type": "histogram2d"
           }
          ],
          "histogram2dcontour": [
           {
            "colorbar": {
             "outlinewidth": 0,
             "ticks": ""
            },
            "colorscale": [
             [
              0,
              "#0d0887"
             ],
             [
              0.1111111111111111,
              "#46039f"
             ],
             [
              0.2222222222222222,
              "#7201a8"
             ],
             [
              0.3333333333333333,
              "#9c179e"
             ],
             [
              0.4444444444444444,
              "#bd3786"
             ],
             [
              0.5555555555555556,
              "#d8576b"
             ],
             [
              0.6666666666666666,
              "#ed7953"
             ],
             [
              0.7777777777777778,
              "#fb9f3a"
             ],
             [
              0.8888888888888888,
              "#fdca26"
             ],
             [
              1,
              "#f0f921"
             ]
            ],
            "type": "histogram2dcontour"
           }
          ],
          "mesh3d": [
           {
            "colorbar": {
             "outlinewidth": 0,
             "ticks": ""
            },
            "type": "mesh3d"
           }
          ],
          "parcoords": [
           {
            "line": {
             "colorbar": {
              "outlinewidth": 0,
              "ticks": ""
             }
            },
            "type": "parcoords"
           }
          ],
          "pie": [
           {
            "automargin": true,
            "type": "pie"
           }
          ],
          "scatter": [
           {
            "fillpattern": {
             "fillmode": "overlay",
             "size": 10,
             "solidity": 0.2
            },
            "type": "scatter"
           }
          ],
          "scatter3d": [
           {
            "line": {
             "colorbar": {
              "outlinewidth": 0,
              "ticks": ""
             }
            },
            "marker": {
             "colorbar": {
              "outlinewidth": 0,
              "ticks": ""
             }
            },
            "type": "scatter3d"
           }
          ],
          "scattercarpet": [
           {
            "marker": {
             "colorbar": {
              "outlinewidth": 0,
              "ticks": ""
             }
            },
            "type": "scattercarpet"
           }
          ],
          "scattergeo": [
           {
            "marker": {
             "colorbar": {
              "outlinewidth": 0,
              "ticks": ""
             }
            },
            "type": "scattergeo"
           }
          ],
          "scattergl": [
           {
            "marker": {
             "colorbar": {
              "outlinewidth": 0,
              "ticks": ""
             }
            },
            "type": "scattergl"
           }
          ],
          "scattermapbox": [
           {
            "marker": {
             "colorbar": {
              "outlinewidth": 0,
              "ticks": ""
             }
            },
            "type": "scattermapbox"
           }
          ],
          "scatterpolar": [
           {
            "marker": {
             "colorbar": {
              "outlinewidth": 0,
              "ticks": ""
             }
            },
            "type": "scatterpolar"
           }
          ],
          "scatterpolargl": [
           {
            "marker": {
             "colorbar": {
              "outlinewidth": 0,
              "ticks": ""
             }
            },
            "type": "scatterpolargl"
           }
          ],
          "scatterternary": [
           {
            "marker": {
             "colorbar": {
              "outlinewidth": 0,
              "ticks": ""
             }
            },
            "type": "scatterternary"
           }
          ],
          "surface": [
           {
            "colorbar": {
             "outlinewidth": 0,
             "ticks": ""
            },
            "colorscale": [
             [
              0,
              "#0d0887"
             ],
             [
              0.1111111111111111,
              "#46039f"
             ],
             [
              0.2222222222222222,
              "#7201a8"
             ],
             [
              0.3333333333333333,
              "#9c179e"
             ],
             [
              0.4444444444444444,
              "#bd3786"
             ],
             [
              0.5555555555555556,
              "#d8576b"
             ],
             [
              0.6666666666666666,
              "#ed7953"
             ],
             [
              0.7777777777777778,
              "#fb9f3a"
             ],
             [
              0.8888888888888888,
              "#fdca26"
             ],
             [
              1,
              "#f0f921"
             ]
            ],
            "type": "surface"
           }
          ],
          "table": [
           {
            "cells": {
             "fill": {
              "color": "#EBF0F8"
             },
             "line": {
              "color": "white"
             }
            },
            "header": {
             "fill": {
              "color": "#C8D4E3"
             },
             "line": {
              "color": "white"
             }
            },
            "type": "table"
           }
          ]
         },
         "layout": {
          "annotationdefaults": {
           "arrowcolor": "#2a3f5f",
           "arrowhead": 0,
           "arrowwidth": 1
          },
          "autotypenumbers": "strict",
          "coloraxis": {
           "colorbar": {
            "outlinewidth": 0,
            "ticks": ""
           }
          },
          "colorscale": {
           "diverging": [
            [
             0,
             "#8e0152"
            ],
            [
             0.1,
             "#c51b7d"
            ],
            [
             0.2,
             "#de77ae"
            ],
            [
             0.3,
             "#f1b6da"
            ],
            [
             0.4,
             "#fde0ef"
            ],
            [
             0.5,
             "#f7f7f7"
            ],
            [
             0.6,
             "#e6f5d0"
            ],
            [
             0.7,
             "#b8e186"
            ],
            [
             0.8,
             "#7fbc41"
            ],
            [
             0.9,
             "#4d9221"
            ],
            [
             1,
             "#276419"
            ]
           ],
           "sequential": [
            [
             0,
             "#0d0887"
            ],
            [
             0.1111111111111111,
             "#46039f"
            ],
            [
             0.2222222222222222,
             "#7201a8"
            ],
            [
             0.3333333333333333,
             "#9c179e"
            ],
            [
             0.4444444444444444,
             "#bd3786"
            ],
            [
             0.5555555555555556,
             "#d8576b"
            ],
            [
             0.6666666666666666,
             "#ed7953"
            ],
            [
             0.7777777777777778,
             "#fb9f3a"
            ],
            [
             0.8888888888888888,
             "#fdca26"
            ],
            [
             1,
             "#f0f921"
            ]
           ],
           "sequentialminus": [
            [
             0,
             "#0d0887"
            ],
            [
             0.1111111111111111,
             "#46039f"
            ],
            [
             0.2222222222222222,
             "#7201a8"
            ],
            [
             0.3333333333333333,
             "#9c179e"
            ],
            [
             0.4444444444444444,
             "#bd3786"
            ],
            [
             0.5555555555555556,
             "#d8576b"
            ],
            [
             0.6666666666666666,
             "#ed7953"
            ],
            [
             0.7777777777777778,
             "#fb9f3a"
            ],
            [
             0.8888888888888888,
             "#fdca26"
            ],
            [
             1,
             "#f0f921"
            ]
           ]
          },
          "colorway": [
           "#636efa",
           "#EF553B",
           "#00cc96",
           "#ab63fa",
           "#FFA15A",
           "#19d3f3",
           "#FF6692",
           "#B6E880",
           "#FF97FF",
           "#FECB52"
          ],
          "font": {
           "color": "#2a3f5f"
          },
          "geo": {
           "bgcolor": "white",
           "lakecolor": "white",
           "landcolor": "#E5ECF6",
           "showlakes": true,
           "showland": true,
           "subunitcolor": "white"
          },
          "hoverlabel": {
           "align": "left"
          },
          "hovermode": "closest",
          "mapbox": {
           "style": "light"
          },
          "paper_bgcolor": "white",
          "plot_bgcolor": "#E5ECF6",
          "polar": {
           "angularaxis": {
            "gridcolor": "white",
            "linecolor": "white",
            "ticks": ""
           },
           "bgcolor": "#E5ECF6",
           "radialaxis": {
            "gridcolor": "white",
            "linecolor": "white",
            "ticks": ""
           }
          },
          "scene": {
           "xaxis": {
            "backgroundcolor": "#E5ECF6",
            "gridcolor": "white",
            "gridwidth": 2,
            "linecolor": "white",
            "showbackground": true,
            "ticks": "",
            "zerolinecolor": "white"
           },
           "yaxis": {
            "backgroundcolor": "#E5ECF6",
            "gridcolor": "white",
            "gridwidth": 2,
            "linecolor": "white",
            "showbackground": true,
            "ticks": "",
            "zerolinecolor": "white"
           },
           "zaxis": {
            "backgroundcolor": "#E5ECF6",
            "gridcolor": "white",
            "gridwidth": 2,
            "linecolor": "white",
            "showbackground": true,
            "ticks": "",
            "zerolinecolor": "white"
           }
          },
          "shapedefaults": {
           "line": {
            "color": "#2a3f5f"
           }
          },
          "ternary": {
           "aaxis": {
            "gridcolor": "white",
            "linecolor": "white",
            "ticks": ""
           },
           "baxis": {
            "gridcolor": "white",
            "linecolor": "white",
            "ticks": ""
           },
           "bgcolor": "#E5ECF6",
           "caxis": {
            "gridcolor": "white",
            "linecolor": "white",
            "ticks": ""
           }
          },
          "title": {
           "x": 0.05
          },
          "xaxis": {
           "automargin": true,
           "gridcolor": "white",
           "linecolor": "white",
           "ticks": "",
           "title": {
            "standoff": 15
           },
           "zerolinecolor": "white",
           "zerolinewidth": 2
          },
          "yaxis": {
           "automargin": true,
           "gridcolor": "white",
           "linecolor": "white",
           "ticks": "",
           "title": {
            "standoff": 15
           },
           "zerolinecolor": "white",
           "zerolinewidth": 2
          }
         }
        },
        "title": {
         "text": "Visitas (en miles de millones) en 2023",
         "x": 0.5
        }
       }
      }
     },
     "metadata": {},
     "output_type": "display_data"
    }
   ],
   "source": [
    "url2 = 'https://www.statista.com/statistics/1201880/most-visited-websites-worldwide/'\n",
    "df2 = process_table(url=url2, col_names=['Página', 'Visitas'])\n",
    "df2.to_csv(os.path.join(output_datasets, 'most_visited_websites.csv'), index=False)\n",
    "\n",
    "if not df2.empty:\n",
    "\tdf2['Visitas'] = pd.to_numeric(df2['Visitas'], errors='coerce')\n",
    "\tdf2 = df2.sort_values(by='Visitas', ascending=False).reset_index(drop=True)\n",
    "\n",
    "\tfig2 = px.pie(df2, values='Visitas', names='Página', title='Visitas (en miles de millones) en 2023')\n",
    "\tfig2.update_layout(title=dict(x=0.5))\n",
    "\tfig2.show()"
   ]
  },
  {
   "cell_type": "code",
   "execution_count": 5,
   "metadata": {},
   "outputs": [
    {
     "data": {
      "application/vnd.plotly.v1+json": {
       "config": {
        "plotlyServerURL": "https://plot.ly"
       },
       "data": [
        {
         "hovertemplate": "Usuarios=%{x}<br>Año=%{y}<extra></extra>",
         "legendgroup": "",
         "line": {
          "color": "#636efa",
          "dash": "solid"
         },
         "marker": {
          "symbol": "circle"
         },
         "mode": "lines",
         "name": "",
         "orientation": "h",
         "showlegend": false,
         "type": "scatter",
         "x": [
          5.84,
          5.74,
          5.32,
          5.16,
          4.95,
          4.59,
          4.48,
          3.96,
          3.48,
          3.19,
          2.8
         ],
         "xaxis": "x",
         "y": [
          2027,
          2026,
          2025,
          2024,
          2023,
          2022,
          2021,
          2020,
          2019,
          2018,
          2017
         ],
         "yaxis": "y"
        }
       ],
       "layout": {
        "legend": {
         "tracegroupgap": 0
        },
        "template": {
         "data": {
          "bar": [
           {
            "error_x": {
             "color": "#2a3f5f"
            },
            "error_y": {
             "color": "#2a3f5f"
            },
            "marker": {
             "line": {
              "color": "#E5ECF6",
              "width": 0.5
             },
             "pattern": {
              "fillmode": "overlay",
              "size": 10,
              "solidity": 0.2
             }
            },
            "type": "bar"
           }
          ],
          "barpolar": [
           {
            "marker": {
             "line": {
              "color": "#E5ECF6",
              "width": 0.5
             },
             "pattern": {
              "fillmode": "overlay",
              "size": 10,
              "solidity": 0.2
             }
            },
            "type": "barpolar"
           }
          ],
          "carpet": [
           {
            "aaxis": {
             "endlinecolor": "#2a3f5f",
             "gridcolor": "white",
             "linecolor": "white",
             "minorgridcolor": "white",
             "startlinecolor": "#2a3f5f"
            },
            "baxis": {
             "endlinecolor": "#2a3f5f",
             "gridcolor": "white",
             "linecolor": "white",
             "minorgridcolor": "white",
             "startlinecolor": "#2a3f5f"
            },
            "type": "carpet"
           }
          ],
          "choropleth": [
           {
            "colorbar": {
             "outlinewidth": 0,
             "ticks": ""
            },
            "type": "choropleth"
           }
          ],
          "contour": [
           {
            "colorbar": {
             "outlinewidth": 0,
             "ticks": ""
            },
            "colorscale": [
             [
              0,
              "#0d0887"
             ],
             [
              0.1111111111111111,
              "#46039f"
             ],
             [
              0.2222222222222222,
              "#7201a8"
             ],
             [
              0.3333333333333333,
              "#9c179e"
             ],
             [
              0.4444444444444444,
              "#bd3786"
             ],
             [
              0.5555555555555556,
              "#d8576b"
             ],
             [
              0.6666666666666666,
              "#ed7953"
             ],
             [
              0.7777777777777778,
              "#fb9f3a"
             ],
             [
              0.8888888888888888,
              "#fdca26"
             ],
             [
              1,
              "#f0f921"
             ]
            ],
            "type": "contour"
           }
          ],
          "contourcarpet": [
           {
            "colorbar": {
             "outlinewidth": 0,
             "ticks": ""
            },
            "type": "contourcarpet"
           }
          ],
          "heatmap": [
           {
            "colorbar": {
             "outlinewidth": 0,
             "ticks": ""
            },
            "colorscale": [
             [
              0,
              "#0d0887"
             ],
             [
              0.1111111111111111,
              "#46039f"
             ],
             [
              0.2222222222222222,
              "#7201a8"
             ],
             [
              0.3333333333333333,
              "#9c179e"
             ],
             [
              0.4444444444444444,
              "#bd3786"
             ],
             [
              0.5555555555555556,
              "#d8576b"
             ],
             [
              0.6666666666666666,
              "#ed7953"
             ],
             [
              0.7777777777777778,
              "#fb9f3a"
             ],
             [
              0.8888888888888888,
              "#fdca26"
             ],
             [
              1,
              "#f0f921"
             ]
            ],
            "type": "heatmap"
           }
          ],
          "heatmapgl": [
           {
            "colorbar": {
             "outlinewidth": 0,
             "ticks": ""
            },
            "colorscale": [
             [
              0,
              "#0d0887"
             ],
             [
              0.1111111111111111,
              "#46039f"
             ],
             [
              0.2222222222222222,
              "#7201a8"
             ],
             [
              0.3333333333333333,
              "#9c179e"
             ],
             [
              0.4444444444444444,
              "#bd3786"
             ],
             [
              0.5555555555555556,
              "#d8576b"
             ],
             [
              0.6666666666666666,
              "#ed7953"
             ],
             [
              0.7777777777777778,
              "#fb9f3a"
             ],
             [
              0.8888888888888888,
              "#fdca26"
             ],
             [
              1,
              "#f0f921"
             ]
            ],
            "type": "heatmapgl"
           }
          ],
          "histogram": [
           {
            "marker": {
             "pattern": {
              "fillmode": "overlay",
              "size": 10,
              "solidity": 0.2
             }
            },
            "type": "histogram"
           }
          ],
          "histogram2d": [
           {
            "colorbar": {
             "outlinewidth": 0,
             "ticks": ""
            },
            "colorscale": [
             [
              0,
              "#0d0887"
             ],
             [
              0.1111111111111111,
              "#46039f"
             ],
             [
              0.2222222222222222,
              "#7201a8"
             ],
             [
              0.3333333333333333,
              "#9c179e"
             ],
             [
              0.4444444444444444,
              "#bd3786"
             ],
             [
              0.5555555555555556,
              "#d8576b"
             ],
             [
              0.6666666666666666,
              "#ed7953"
             ],
             [
              0.7777777777777778,
              "#fb9f3a"
             ],
             [
              0.8888888888888888,
              "#fdca26"
             ],
             [
              1,
              "#f0f921"
             ]
            ],
            "type": "histogram2d"
           }
          ],
          "histogram2dcontour": [
           {
            "colorbar": {
             "outlinewidth": 0,
             "ticks": ""
            },
            "colorscale": [
             [
              0,
              "#0d0887"
             ],
             [
              0.1111111111111111,
              "#46039f"
             ],
             [
              0.2222222222222222,
              "#7201a8"
             ],
             [
              0.3333333333333333,
              "#9c179e"
             ],
             [
              0.4444444444444444,
              "#bd3786"
             ],
             [
              0.5555555555555556,
              "#d8576b"
             ],
             [
              0.6666666666666666,
              "#ed7953"
             ],
             [
              0.7777777777777778,
              "#fb9f3a"
             ],
             [
              0.8888888888888888,
              "#fdca26"
             ],
             [
              1,
              "#f0f921"
             ]
            ],
            "type": "histogram2dcontour"
           }
          ],
          "mesh3d": [
           {
            "colorbar": {
             "outlinewidth": 0,
             "ticks": ""
            },
            "type": "mesh3d"
           }
          ],
          "parcoords": [
           {
            "line": {
             "colorbar": {
              "outlinewidth": 0,
              "ticks": ""
             }
            },
            "type": "parcoords"
           }
          ],
          "pie": [
           {
            "automargin": true,
            "type": "pie"
           }
          ],
          "scatter": [
           {
            "fillpattern": {
             "fillmode": "overlay",
             "size": 10,
             "solidity": 0.2
            },
            "type": "scatter"
           }
          ],
          "scatter3d": [
           {
            "line": {
             "colorbar": {
              "outlinewidth": 0,
              "ticks": ""
             }
            },
            "marker": {
             "colorbar": {
              "outlinewidth": 0,
              "ticks": ""
             }
            },
            "type": "scatter3d"
           }
          ],
          "scattercarpet": [
           {
            "marker": {
             "colorbar": {
              "outlinewidth": 0,
              "ticks": ""
             }
            },
            "type": "scattercarpet"
           }
          ],
          "scattergeo": [
           {
            "marker": {
             "colorbar": {
              "outlinewidth": 0,
              "ticks": ""
             }
            },
            "type": "scattergeo"
           }
          ],
          "scattergl": [
           {
            "marker": {
             "colorbar": {
              "outlinewidth": 0,
              "ticks": ""
             }
            },
            "type": "scattergl"
           }
          ],
          "scattermapbox": [
           {
            "marker": {
             "colorbar": {
              "outlinewidth": 0,
              "ticks": ""
             }
            },
            "type": "scattermapbox"
           }
          ],
          "scatterpolar": [
           {
            "marker": {
             "colorbar": {
              "outlinewidth": 0,
              "ticks": ""
             }
            },
            "type": "scatterpolar"
           }
          ],
          "scatterpolargl": [
           {
            "marker": {
             "colorbar": {
              "outlinewidth": 0,
              "ticks": ""
             }
            },
            "type": "scatterpolargl"
           }
          ],
          "scatterternary": [
           {
            "marker": {
             "colorbar": {
              "outlinewidth": 0,
              "ticks": ""
             }
            },
            "type": "scatterternary"
           }
          ],
          "surface": [
           {
            "colorbar": {
             "outlinewidth": 0,
             "ticks": ""
            },
            "colorscale": [
             [
              0,
              "#0d0887"
             ],
             [
              0.1111111111111111,
              "#46039f"
             ],
             [
              0.2222222222222222,
              "#7201a8"
             ],
             [
              0.3333333333333333,
              "#9c179e"
             ],
             [
              0.4444444444444444,
              "#bd3786"
             ],
             [
              0.5555555555555556,
              "#d8576b"
             ],
             [
              0.6666666666666666,
              "#ed7953"
             ],
             [
              0.7777777777777778,
              "#fb9f3a"
             ],
             [
              0.8888888888888888,
              "#fdca26"
             ],
             [
              1,
              "#f0f921"
             ]
            ],
            "type": "surface"
           }
          ],
          "table": [
           {
            "cells": {
             "fill": {
              "color": "#EBF0F8"
             },
             "line": {
              "color": "white"
             }
            },
            "header": {
             "fill": {
              "color": "#C8D4E3"
             },
             "line": {
              "color": "white"
             }
            },
            "type": "table"
           }
          ]
         },
         "layout": {
          "annotationdefaults": {
           "arrowcolor": "#2a3f5f",
           "arrowhead": 0,
           "arrowwidth": 1
          },
          "autotypenumbers": "strict",
          "coloraxis": {
           "colorbar": {
            "outlinewidth": 0,
            "ticks": ""
           }
          },
          "colorscale": {
           "diverging": [
            [
             0,
             "#8e0152"
            ],
            [
             0.1,
             "#c51b7d"
            ],
            [
             0.2,
             "#de77ae"
            ],
            [
             0.3,
             "#f1b6da"
            ],
            [
             0.4,
             "#fde0ef"
            ],
            [
             0.5,
             "#f7f7f7"
            ],
            [
             0.6,
             "#e6f5d0"
            ],
            [
             0.7,
             "#b8e186"
            ],
            [
             0.8,
             "#7fbc41"
            ],
            [
             0.9,
             "#4d9221"
            ],
            [
             1,
             "#276419"
            ]
           ],
           "sequential": [
            [
             0,
             "#0d0887"
            ],
            [
             0.1111111111111111,
             "#46039f"
            ],
            [
             0.2222222222222222,
             "#7201a8"
            ],
            [
             0.3333333333333333,
             "#9c179e"
            ],
            [
             0.4444444444444444,
             "#bd3786"
            ],
            [
             0.5555555555555556,
             "#d8576b"
            ],
            [
             0.6666666666666666,
             "#ed7953"
            ],
            [
             0.7777777777777778,
             "#fb9f3a"
            ],
            [
             0.8888888888888888,
             "#fdca26"
            ],
            [
             1,
             "#f0f921"
            ]
           ],
           "sequentialminus": [
            [
             0,
             "#0d0887"
            ],
            [
             0.1111111111111111,
             "#46039f"
            ],
            [
             0.2222222222222222,
             "#7201a8"
            ],
            [
             0.3333333333333333,
             "#9c179e"
            ],
            [
             0.4444444444444444,
             "#bd3786"
            ],
            [
             0.5555555555555556,
             "#d8576b"
            ],
            [
             0.6666666666666666,
             "#ed7953"
            ],
            [
             0.7777777777777778,
             "#fb9f3a"
            ],
            [
             0.8888888888888888,
             "#fdca26"
            ],
            [
             1,
             "#f0f921"
            ]
           ]
          },
          "colorway": [
           "#636efa",
           "#EF553B",
           "#00cc96",
           "#ab63fa",
           "#FFA15A",
           "#19d3f3",
           "#FF6692",
           "#B6E880",
           "#FF97FF",
           "#FECB52"
          ],
          "font": {
           "color": "#2a3f5f"
          },
          "geo": {
           "bgcolor": "white",
           "lakecolor": "white",
           "landcolor": "#E5ECF6",
           "showlakes": true,
           "showland": true,
           "subunitcolor": "white"
          },
          "hoverlabel": {
           "align": "left"
          },
          "hovermode": "closest",
          "mapbox": {
           "style": "light"
          },
          "paper_bgcolor": "white",
          "plot_bgcolor": "#E5ECF6",
          "polar": {
           "angularaxis": {
            "gridcolor": "white",
            "linecolor": "white",
            "ticks": ""
           },
           "bgcolor": "#E5ECF6",
           "radialaxis": {
            "gridcolor": "white",
            "linecolor": "white",
            "ticks": ""
           }
          },
          "scene": {
           "xaxis": {
            "backgroundcolor": "#E5ECF6",
            "gridcolor": "white",
            "gridwidth": 2,
            "linecolor": "white",
            "showbackground": true,
            "ticks": "",
            "zerolinecolor": "white"
           },
           "yaxis": {
            "backgroundcolor": "#E5ECF6",
            "gridcolor": "white",
            "gridwidth": 2,
            "linecolor": "white",
            "showbackground": true,
            "ticks": "",
            "zerolinecolor": "white"
           },
           "zaxis": {
            "backgroundcolor": "#E5ECF6",
            "gridcolor": "white",
            "gridwidth": 2,
            "linecolor": "white",
            "showbackground": true,
            "ticks": "",
            "zerolinecolor": "white"
           }
          },
          "shapedefaults": {
           "line": {
            "color": "#2a3f5f"
           }
          },
          "ternary": {
           "aaxis": {
            "gridcolor": "white",
            "linecolor": "white",
            "ticks": ""
           },
           "baxis": {
            "gridcolor": "white",
            "linecolor": "white",
            "ticks": ""
           },
           "bgcolor": "#E5ECF6",
           "caxis": {
            "gridcolor": "white",
            "linecolor": "white",
            "ticks": ""
           }
          },
          "title": {
           "x": 0.05
          },
          "xaxis": {
           "automargin": true,
           "gridcolor": "white",
           "linecolor": "white",
           "ticks": "",
           "title": {
            "standoff": 15
           },
           "zerolinecolor": "white",
           "zerolinewidth": 2
          },
          "yaxis": {
           "automargin": true,
           "gridcolor": "white",
           "linecolor": "white",
           "ticks": "",
           "title": {
            "standoff": 15
           },
           "zerolinecolor": "white",
           "zerolinewidth": 2
          }
         }
        },
        "title": {
         "text": "Crecimiento anual de usuarios de redes sociales y estimacón.",
         "x": 0.5
        },
        "xaxis": {
         "anchor": "y",
         "domain": [
          0,
          1
         ],
         "title": {
          "text": "Usuarios"
         }
        },
        "yaxis": {
         "anchor": "x",
         "domain": [
          0,
          1
         ],
         "title": {
          "text": "Año"
         }
        }
       }
      }
     },
     "metadata": {},
     "output_type": "display_data"
    }
   ],
   "source": [
    "url3 = 'https://prioridata.com/data/social-media-usage/'\n",
    "response = requests.get(url3)\n",
    "response.raise_for_status()\n",
    "\n",
    "soup = BeautifulSoup(response.content, 'html.parser')\n",
    "df3 = process_table(col_names=['Año', 'Usuarios'], table=soup.find('table'))\n",
    "df3['Usuarios'] = df3['Usuarios'].str.replace(' billion', '').astype(float)\n",
    "df3[\"Año\"] = df3[\"Año\"].str.replace('(estimated)', '').astype(int)\n",
    "df3.to_csv(os.path.join(output_datasets, 'sm_users_growth.csv'), index=False)\n",
    "\n",
    "fig3 = px.line(df3, x='Usuarios', y='Año', orientation='h', title='Crecimiento anual de usuarios de redes sociales y estimacón.')\n",
    "fig3.update_layout(title=dict(x=0.5))\n",
    "fig3.show()"
   ]
  },
  {
   "cell_type": "code",
   "execution_count": 6,
   "metadata": {},
   "outputs": [
    {
     "name": "stderr",
     "output_type": "stream",
     "text": [
      "Failed to import jpype dependencies. Fallback to subprocess.\n",
      "No module named 'jpype'\n",
      "/var/folders/x_/ghw0qsvj3p120vrgdzcvqpcc0000gn/T/ipykernel_48500/1866883068.py:11: SettingWithCopyWarning:\n",
      "\n",
      "\n",
      "A value is trying to be set on a copy of a slice from a DataFrame\n",
      "\n",
      "See the caveats in the documentation: https://pandas.pydata.org/pandas-docs/stable/user_guide/indexing.html#returning-a-view-versus-a-copy\n",
      "\n",
      "/var/folders/x_/ghw0qsvj3p120vrgdzcvqpcc0000gn/T/ipykernel_48500/1866883068.py:12: SettingWithCopyWarning:\n",
      "\n",
      "\n",
      "A value is trying to be set on a copy of a slice from a DataFrame\n",
      "\n",
      "See the caveats in the documentation: https://pandas.pydata.org/pandas-docs/stable/user_guide/indexing.html#returning-a-view-versus-a-copy\n",
      "\n",
      "/var/folders/x_/ghw0qsvj3p120vrgdzcvqpcc0000gn/T/ipykernel_48500/1866883068.py:15: SettingWithCopyWarning:\n",
      "\n",
      "\n",
      "A value is trying to be set on a copy of a slice from a DataFrame\n",
      "\n",
      "See the caveats in the documentation: https://pandas.pydata.org/pandas-docs/stable/user_guide/indexing.html#returning-a-view-versus-a-copy\n",
      "\n"
     ]
    }
   ],
   "source": [
    "## Tiempo usado en redes sociales en cada país -> Página 8 del informe\n",
    "pdf = os.path.join(input_datasets, 'SocialReport.pdf')\n",
    "doc = fitz.open(pdf)\n",
    "\n",
    "df_table = tabula.read_pdf(pdf, pages=8, stream=True, pandas_options={\"header\": None})[0]\n",
    "\n",
    "df_1 = df_table.iloc[:, :9]\n",
    "df_2 = df_table.iloc[:, 9:18]\n",
    "\n",
    "df_1.columns = df_1.iloc[0]\n",
    "df_1.drop(0, inplace=True)\n",
    "df_1.rename(columns={col: \"País\" for col in df_1.columns if pd.isna(col)}, inplace=True)\n",
    "\n",
    "df_2.columns = df_1.columns\n",
    "df_2.drop(0, inplace=True)\n",
    "\n",
    "df_vertical = pd.concat([df_1, df_2], ignore_index=True)\n",
    "\n",
    "df_long_social = pd.melt(df_vertical, id_vars=[\"País\"], var_name=\"Año\", value_name=\"Horas\")\n",
    "\n",
    "df_long_social[\"Año\"] = pd.to_datetime(df_long_social[\"Año\"], format=\"%Y\").dt.year\n",
    "df_long_social[\"Horas\"] = pd.to_numeric(df_long_social[\"Horas\"].str.replace(\":\", \".\"), errors=\"coerce\")\n",
    "\n",
    "country_options = [{'label': country, 'value': country} for country in df_long_social[\"País\"].dropna().unique()]"
   ]
  },
  {
   "cell_type": "code",
   "execution_count": 7,
   "metadata": {},
   "outputs": [],
   "source": [
    "data = {\n",
    "\t\"País\": [\n",
    "\t\t\"Argentina\", \"Australia\", \"Austria\", \"Bélgica\", \"Brasil\", \"Canadá\", \"China\", \"Colombia\", \"Dinamarca\",\n",
    "\t\t\"Egipto\", \"Francia\", \"Alemania\", \"Ghana\", \"Hong Kong\", \"India\", \"Indonesia\", \"Irlanda\", \"Italia\",\n",
    "\t\t\"Japón\", \"Kenia\", \"Malasia\", \"México\", \"Marruecos\", \"Países Bajos\", \"Nueva Zelanda\", \"Nigeria\",\n",
    "\t\t\"Filipinas\", \"Polonia\", \"Portugal\", \"Rumanía\", \"Rusia\", \"Arabia Saudita\", \"Singapur\", \"Sudáfrica\",\n",
    "\t\t\"Corea del Sur\", \"España\", \"Suecia\", \"Suiza\", \"Taiwán\", \"Tailandia\", \"Turquía\", \"EAU\", \"Reino Unido\", \"EE.UU.\", \"Vietnam\"\n",
    "\t],\n",
    "\t\"Uso de redes sociales para mantenerse informado\": [49, 34, 38, 38, 55, 39, 35, 56, 40, 49, 31, 32, 40, 40, 38, 48, 45, 42,\n",
    "\t\t\t\t\t\t\t\t\t\t\t\t\t\t30, 40, 61, 49, 30, 38, 40, 38, 65, 53, 53, 45, 49, 51, 26, 39, 49, 33,\n",
    "\t\t\t\t\t\t\t\t\t\t\t\t\t\t33, 59, 62, 35, 40, 33, 33, 44],\n",
    "\t\"Seguir marcas que les gustan\": [45, 36, 30, 30, 51, 35, 37, 55, 26, 40, 25, 26, 46, 46, 38, 36, 37, 36,\n",
    "\t\t\t\t\t\t\t\t\t  24, 51, 51, 53, 19, 30, 33, 26, 58, 48, 48, 47, 46, 57, 33, 49, 49, 26,\n",
    "\t\t\t\t\t\t\t\t\t  26, 50, 52, 36, 40, 33, 34, 37],\n",
    "\t\"Descubrir marcas a través de comentarios\": [38, 22, 18, 17, 36, 22, 24, 38, 19, 32, 13, 14, 22, 23, 23, 35,\n",
    "\t\t\t\t\t\t\t\t\t\t\t\t 24, 18, 13, 22, 40, 36, 17, 16, 26, 26, 39, 29, 29, 28, 21, 23,\n",
    "\t\t\t\t\t\t\t\t\t\t\t\t 18, 24, 26, 16, 19, 36, 28, 23, 25, 20, 19, 32],\n",
    "\t\"Investigar productos/marcas usando redes sociales\": [61, 31, 32, 32, 64, 32, 27, 53, 32, 33, 26, 24, 74,\n",
    "\t\t\t\t\t\t\t\t\t\t\t\t\t\t   40, 45, 39, 30, 29, 30, 76, 64, 61, 25, 35, 47, 74,\n",
    "\t\t\t\t\t\t\t\t\t\t\t\t\t\t   67, 47, 47, 44, 43, 57, 22, 39, 39, 28, 33, 58, 58,\n",
    "\t\t\t\t\t\t\t\t\t\t\t\t\t\t   51, 57, 27, 27, 68],\n",
    "\t\"Motivar compras a través de 'Me gusta'\": [25, 14, 11, 9, 20, 15, 27, 28, 9, 32, 11, 10, 23, 23, 22, 15, 15,\n",
    "\t\t\t\t\t\t\t\t\t\t\t\t14, 9, 32, 32, 24, 8, 15, 36, 36, 28, 22, 22, 20, 13, 28, 13, 19,\n",
    "\t\t\t\t\t\t\t\t\t\t\t\t15, 9, 33, 33, 23, 23, 14, 14, 25],\n",
    "\t\"Motivar compras a través del botón 'Comprar'\": [10, 5, 4, 4, 10, 6, 17, 12, 5, 19, 4, 4, 10, 10, 16, 7, 7,\n",
    "\t\t\t\t\t\t\t\t\t\t\t\t\t   5, 4, 0, 12, 11, 3, 3, 7, 15, 15, 8, 16, 13, 6, 15, 8, 6, 6,\n",
    "\t\t\t\t\t\t\t\t\t\t\t\t\t   5, 18, 14, 12, 12, 6, 6, 14]\n",
    "}\n",
    "\n",
    "df = pd.DataFrame(dict([(k, pd.Series(v)) for k, v in data.items()]))\n",
    "\n",
    "df_long_use = df.melt(id_vars=[\"País\"], var_name=\"Metrica\", value_name=\"Porcentaje\")\n"
   ]
  },
  {
   "cell_type": "code",
   "execution_count": 8,
   "metadata": {},
   "outputs": [],
   "source": [
    "## Porcentaje de uso de redes sociales más famosas en cada país -> Página 18 del informe\n",
    "countries = [\n",
    "\t\"Australia\", \"Hong Kong\", \"India\", \"Indonesia\", \"Japón\", \"Malasia\", \"Nueva Zelanda\",\n",
    "\t\"Filipinas\", \"Singapur\", \"Corea del Sur\", \"Taiwán\", \"Tailandia\", \"Vietnam\", \"Austria\",\n",
    "\t\"Bélgica\", \"Dinamarca\", \"Francia\", \"Alemania\", \"Irlanda\", \"Italia\", \"Países Bajos\", \"Polonia\",\n",
    "\t\"Portugal\", \"Rumanía\", \"Rusia\", \"España\", \"Suecia\", \"Suiza\", \"Turquía\", \"Reino Unido\",\n",
    "\t\"Argentina\", \"Brasil\", \"Colombia\", \"México\", \"Egipto\", \"Ghana\", \"Kenia\", \"Marruecos\",\n",
    "\t\"Nigeria\", \"Arabia Saudita\", \"Sudáfrica\", \"EAU\", \"Canadá\", \"EE.UU.\"\n",
    "]\n",
    "\n",
    "data = {\n",
    "\t\"País\": countries,\n",
    "\t\"Facebook\": [80, 84, 82, 83, 34, 91, 84, 95, 80, 61, 88, 92, 93, 72, 80, 81, 74, 63, 79, 81, 73, 86, 89, 90, 39, 81, 81, 70, 82, 77, 89, 90, 92, 94, 91, 73, 79, 78, 80, 64, 83, 80, 81, 75],\n",
    "\t\"FB Messenger\": [65, 51, 57, 48, 11, 65, 72, 86, 51, 26, 57, 71, 75, 50, 65, 66, 54, 40, 64, 56, 49, 67, 74, 73, 14, 47, 67, 49, 58, 61, 61, 67, 71, 77, 70, 50, 46, 41, 58, 41, 61, 58, 62, 55],\n",
    "\t\"Instagram\": [49, 58, 68, 78, 33, 72, 48, 59, 61, 50, 54, 61, 51, 46, 46, 50, 39, 37, 54, 59, 46, 51, 66, 55, 51, 60, 65, 51, 85,49, 71, 75, 73, 66, 66, 48, 55, 44, 61, 62, 58, 61, 49, 50],\n",
    "\t\"Snapchat\": [28, 17, 32, 24, 2, 22, 32, 26, 20, 7, 8, 18, 17, 19, 26, 38, 32, 16, 34, 14, 23, 26, 21, 24, 7, 17, 37, 24, 32, 27, 20, 24, 28, 30, 27, 28, 17, 25, 24, 47, 25, 32, 27, 30],\n",
    "\t\"Twitter\": [27, 27, 52, 51, 49, 45, 25, 51, 36, 29, 27, 49, 37, 19, 26, 23, 29, 20, 42, 33, 26, 32, 35, 35, 19, 51, 28, 23, 60, 45, 47, 47, 54, 58, 50, 29, 40, 17, 35, 58, 45, 47, 37, 39],\n",
    "\t\"WhatsApp\": [29, 81, 75, 86, 2, 92, 29, 28, 85, 7, 19, 25, 23, 81, 59, 19, 35, 78, 68, 83, 85, 40, 67, 71, 67, 86, 29, 82, 85, 60, 90, 88, 90, 89, 78, 83, 87, 79, 86, 73, 91, 76, 27, 28]\n",
    "}\n",
    "\n",
    "df = pd.DataFrame(dict([(k, pd.Series(v)) for k, v in data.items()]))\n",
    "\n",
    "df_long_sm = df.melt(id_vars=[\"País\"], var_name=\"Red\", value_name=\"Porcentaje\")"
   ]
  },
  {
   "cell_type": "code",
   "execution_count": 9,
   "metadata": {},
   "outputs": [],
   "source": [
    "merged_1 = pd.merge(df_long_social, df_long_use, on=\"País\", how=\"outer\")\n",
    "df_combined = pd.merge(merged_1, df_long_sm, on=\"País\", how=\"outer\")\n",
    "df_combined.to_csv(os.path.join(output_datasets, 'social_media_usage_report.csv'), index=False)"
   ]
  },
  {
   "cell_type": "code",
   "execution_count": 10,
   "metadata": {},
   "outputs": [
    {
     "data": {
      "text/html": [
       "\n",
       "        <iframe\n",
       "            width=\"100%\"\n",
       "            height=\"650\"\n",
       "            src=\"http://127.0.0.1:8040/\"\n",
       "            frameborder=\"0\"\n",
       "            allowfullscreen\n",
       "            \n",
       "        ></iframe>\n",
       "        "
      ],
      "text/plain": [
       "<IPython.lib.display.IFrame at 0x14452d400>"
      ]
     },
     "metadata": {},
     "output_type": "display_data"
    }
   ],
   "source": [
    "app = dash.Dash(__name__)\n",
    "\n",
    "app.layout = html.Div([\n",
    "\thtml.H1(\"Análisis de Uso de Redes Sociales\", style={'textAlign': 'center', 'color': 'white'}),\n",
    "\n",
    "\tdcc.Tabs([\n",
    "\t\tdcc.Tab(label='Tiempo usado en redes sociales', children=[\n",
    "\t\t\thtml.H3(\"Seleccione un país:\", style={'color': 'white'}),\n",
    "\t\t\tdcc.Dropdown(\n",
    "\t\t\t\tid='dropdown-line',\n",
    "\t\t\t\toptions=country_options,\n",
    "\t\t\t\tvalue=country_options[0]['value'],\n",
    "\t\t\t\tstyle={'width': '50%'}\n",
    "\t\t\t),\n",
    "\t\t\tdcc.Graph(id='line-chart')\n",
    "\t\t]),\n",
    "\n",
    "\t\tdcc.Tab(label='Porcentaje de uso de cada red', children=[\n",
    "\t\t\thtml.H3(\"Seleccione un país:\", style={'color': 'white'}),\n",
    "\t\t\tdcc.Dropdown(\n",
    "\t\t\t\tid='dropdown-pie-sm',\n",
    "\t\t\t\toptions=country_options,\n",
    "\t\t\t\tvalue=country_options[0]['value'],\n",
    "\t\t\t\tstyle={'width': '50%'}\n",
    "\t\t\t),\n",
    "\t\t\tdcc.Graph(id='pie-chart-sm')\n",
    "\t\t]),\n",
    "\n",
    "\t\tdcc.Tab(label='Motivo de uso de las redes', children=[\n",
    "\t\t\thtml.H3(\"Seleccione un país:\", style={'color': 'white'}),\n",
    "\t\t\tdcc.Dropdown(\n",
    "\t\t\t\tid='dropdown-pie',\n",
    "\t\t\t\toptions=country_options,\n",
    "\t\t\t\tvalue=country_options[0]['value'],\n",
    "\t\t\t\tstyle={'width': '50%'}\n",
    "\t\t\t),\n",
    "\t\t\tdcc.Graph(id='pie-chart')\n",
    "\t\t])\n",
    "\t])\n",
    "])\n",
    "\n",
    "@app.callback(\n",
    "\tOutput('line-chart', 'figure'),\n",
    "\tInput('dropdown-line', 'value')\n",
    ")\n",
    "def update_line_chart(country_name):\n",
    "\tcountry_data = df_long_social[df_long_social[\"País\"] == country_name]\n",
    "\n",
    "\tfig = px.line(\n",
    "\t\tcountry_data,\n",
    "\t\tx=\"Año\",\n",
    "\t\ty=\"Horas\",\n",
    "\t\tcolor=\"País\",\n",
    "\t\ttitle=f\"Tiempo promedio en redes sociales por país: {country_name}\",\n",
    "\t\tlabels={\"Horas\": \"Horas por día\", \"Año\": \"Año\"},\n",
    "\t)\n",
    "\n",
    "\t# Mejora del hover\n",
    "\tfig.update_traces(\n",
    "\t\thovertemplate=\"<b>Año:</b> %{x}<br>\" +\n",
    "\t\t\t\t\t  \"<b>Horas por día:</b> %{y:.2f}<br>\" +\n",
    "\t\t\t\t\t  \"<b>País:</b> %{customdata[0]}\",\n",
    "\t\tcustomdata=country_data[[\"País\"]]\n",
    "\t)\n",
    "\n",
    "\treturn fig\n",
    "\n",
    "@app.callback(\n",
    "\tOutput('pie-chart-sm', 'figure'),\n",
    "\tInput('dropdown-pie-sm', 'value')\n",
    ")\n",
    "def update_pie_chart_sm(country_name):\n",
    "\tcountry_data = df_long_sm[df_long_sm[\"País\"] == country_name]\n",
    "\n",
    "\tfig = px.pie(\n",
    "\t\tcountry_data,\n",
    "\t\tvalues=\"Porcentaje\",\n",
    "\t\tnames=\"Red\",\n",
    "\t\ttitle=f\"Distribución de uso de redes sociales en {country_name}\",\n",
    "\t\tlabels={\"Porcentaje\": \"Porcentaje\", \"Red\": \"Red Social\"},\n",
    "\t)\n",
    "\n",
    "\tfig.update_traces(\n",
    "\t\thovertemplate=\"<b>Red Social:</b> %{label}<br>\" +\n",
    "\t\t\t\t\t  \"<b>Porcentaje de uso:</b> %{value:.1f}%<br>\" +\n",
    "\t\t\t\t\t  \"<b>País:</b> \" + country_name\n",
    "\t)\n",
    "\n",
    "\treturn fig\n",
    "\n",
    "@app.callback(\n",
    "\tOutput('pie-chart', 'figure'),\n",
    "\tInput('dropdown-pie', 'value')\n",
    ")\n",
    "def update_pie_chart(country_name):\n",
    "\tcountry_data = df_long_use[df_long_use[\"País\"] == country_name]\n",
    "\n",
    "\tfig = px.pie(\n",
    "\t\tcountry_data,\n",
    "\t\tvalues=\"Porcentaje\",\n",
    "\t\tnames=\"Metrica\",\n",
    "\t\ttitle=f\"Motivos de uso de redes sociales en {country_name}\",\n",
    "\t\tlabels={\"Porcentaje\": \"Porcentaje\", \"Metrica\": \"Motivo\"},\n",
    "\t)\n",
    "\n",
    "\tfig.update_traces(\n",
    "\t\thovertemplate=\"<b>Motivo:</b> %{label}<br>\" +\n",
    "\t\t\t\t\t  \"<b>Porcentaje:</b> %{value:.1f}%<br>\" +\n",
    "\t\t\t\t\t  \"<b>País:</b> \" + country_name\n",
    "\t)\n",
    "\n",
    "\treturn fig\n",
    "\n",
    "port_range = range(8040, 8060)\n",
    "for port in port_range:\n",
    "\ttry:\n",
    "\t\tapp.run_server(port=port, debug=False)\n",
    "\t\tbreak\n",
    "\texcept OSError:\n",
    "\t\tcontinue"
   ]
  },
  {
   "cell_type": "code",
   "execution_count": 11,
   "metadata": {},
   "outputs": [],
   "source": [
    "# url = 'https://es.statista.com/estadisticas/1260093/redes-sociales-porcentaje-de-usuarios-por-edad-en-espana/'\n",
    "# response = requests.get(url, headers=headers)\n",
    "# response.raise_for_status()\n",
    "# soup = BeautifulSoup(response.content, 'html.parser')\n",
    "\n",
    "# data_chart = soup.find('div', {'id': 'highcharts-29cxzig-0'})"
   ]
  },
  {
   "cell_type": "code",
   "execution_count": 12,
   "metadata": {},
   "outputs": [],
   "source": [
    "svg = \"\"\"<svg version=\"1.1\" class=\"highcharts-root\" style=\"font-family:&quot;Lucida Grande&quot;, &quot;Lucida Sans Unicode&quot;, Arial, Helvetica, sans-serif;font-size:12px;\" xmlns=\"http://www.w3.org/2000/svg\" width=\"705\" height=\"450\" viewBox=\"0 0 705 450\"><desc>Created with Highcharts 7.2.2</desc><defs><clipPath id=\"highcharts-29cxzig-1-\"><rect x=\"0\" y=\"0\" width=\"388\" height=\"606\" fill=\"none\"></rect></clipPath><clipPath id=\"highcharts-29cxzig-8-\"><rect x=\"79\" y=\"10\" width=\"606\" height=\"388\" fill=\"none\"></rect></clipPath></defs><rect fill=\"#ffffff\" class=\"highcharts-background\" x=\"0\" y=\"0\" width=\"705\" height=\"450\" rx=\"0\" ry=\"0\"></rect><rect fill=\"none\" class=\"highcharts-plot-background\" x=\"79\" y=\"10\" width=\"606\" height=\"388\"></rect><g class=\"highcharts-plot-bands-0\" data-z-index=\"0\"><path fill=\"#fafafa\" class=\"highcharts-plot-band \" d=\"M 79 75.5 L 685 75.5 685 139.5 79 139.5 z\"></path><path fill=\"#fafafa\" class=\"highcharts-plot-band \" d=\"M 79 204.5 L 685 204.5 685 269.5 79 269.5 z\"></path><path fill=\"#fafafa\" class=\"highcharts-plot-band \" d=\"M 79 333.5 L 685 333.5 685 398.5 79 398.5 z\"></path></g><g class=\"highcharts-grid highcharts-xaxis-grid\" data-z-index=\"1\"><path fill=\"none\" stroke-dasharray=\"none,none\" data-z-index=\"1\" class=\"highcharts-grid-line\" d=\"M 79 75.5 L 685 75.5\" opacity=\"1\"></path><path fill=\"none\" stroke-dasharray=\"none,none\" data-z-index=\"1\" class=\"highcharts-grid-line\" d=\"M 79 139.5 L 685 139.5\" opacity=\"1\"></path><path fill=\"none\" stroke-dasharray=\"none,none\" data-z-index=\"1\" class=\"highcharts-grid-line\" d=\"M 79 204.5 L 685 204.5\" opacity=\"1\"></path><path fill=\"none\" stroke-dasharray=\"none,none\" data-z-index=\"1\" class=\"highcharts-grid-line\" d=\"M 79 269.5 L 685 269.5\" opacity=\"1\"></path><path fill=\"none\" stroke-dasharray=\"none,none\" data-z-index=\"1\" class=\"highcharts-grid-line\" d=\"M 79 333.5 L 685 333.5\" opacity=\"1\"></path><path fill=\"none\" stroke-dasharray=\"none,none\" data-z-index=\"1\" class=\"highcharts-grid-line\" d=\"M 79 398.5 L 685 398.5\" opacity=\"1\"></path><path fill=\"none\" stroke-dasharray=\"none,none\" data-z-index=\"1\" class=\"highcharts-grid-line\" d=\"M 79 10.5 L 685 10.5\" opacity=\"1\"></path></g><g class=\"highcharts-grid highcharts-yaxis-grid\" data-z-index=\"1\"><path fill=\"none\" stroke=\"#cdcdcd\" stroke-width=\"1\" stroke-dasharray=\"1,1\" data-z-index=\"1\" class=\"highcharts-grid-line\" d=\"M 78.5 10 L 78.5 398\" opacity=\"1\"></path><path fill=\"none\" stroke=\"#cdcdcd\" stroke-width=\"1\" stroke-dasharray=\"1,1\" data-z-index=\"1\" class=\"highcharts-grid-line\" d=\"M 139.5 10 L 139.5 398\" opacity=\"1\"></path><path fill=\"none\" stroke=\"#cdcdcd\" stroke-width=\"1\" stroke-dasharray=\"1,1\" data-z-index=\"1\" class=\"highcharts-grid-line\" d=\"M 199.5 10 L 199.5 398\" opacity=\"1\"></path><path fill=\"none\" stroke=\"#cdcdcd\" stroke-width=\"1\" stroke-dasharray=\"1,1\" data-z-index=\"1\" class=\"highcharts-grid-line\" d=\"M 260.5 10 L 260.5 398\" opacity=\"1\"></path><path fill=\"none\" stroke=\"#cdcdcd\" stroke-width=\"1\" stroke-dasharray=\"1,1\" data-z-index=\"1\" class=\"highcharts-grid-line\" d=\"M 320.5 10 L 320.5 398\" opacity=\"1\"></path><path fill=\"none\" stroke=\"#cdcdcd\" stroke-width=\"1\" stroke-dasharray=\"1,1\" data-z-index=\"1\" class=\"highcharts-grid-line\" d=\"M 381.5 10 L 381.5 398\" opacity=\"1\"></path><path fill=\"none\" stroke=\"#cdcdcd\" stroke-width=\"1\" stroke-dasharray=\"1,1\" data-z-index=\"1\" class=\"highcharts-grid-line\" d=\"M 442.5 10 L 442.5 398\" opacity=\"1\"></path><path fill=\"none\" stroke=\"#cdcdcd\" stroke-width=\"1\" stroke-dasharray=\"1,1\" data-z-index=\"1\" class=\"highcharts-grid-line\" d=\"M 502.5 10 L 502.5 398\" opacity=\"1\"></path><path fill=\"none\" stroke=\"#cdcdcd\" stroke-width=\"1\" stroke-dasharray=\"1,1\" data-z-index=\"1\" class=\"highcharts-grid-line\" d=\"M 563.5 10 L 563.5 398\" opacity=\"1\"></path><path fill=\"none\" stroke=\"#cdcdcd\" stroke-width=\"1\" stroke-dasharray=\"1,1\" data-z-index=\"1\" class=\"highcharts-grid-line\" d=\"M 623.5 10 L 623.5 398\" opacity=\"1\"></path><path fill=\"none\" stroke=\"#cdcdcd\" stroke-width=\"1\" stroke-dasharray=\"1,1\" data-z-index=\"1\" class=\"highcharts-grid-line\" d=\"M 685.5 10 L 685.5 398\" opacity=\"1\"></path></g><rect fill=\"none\" class=\"highcharts-plot-border\" data-z-index=\"1\" x=\"79\" y=\"10\" width=\"606\" height=\"388\"></rect><g class=\"highcharts-axis highcharts-xaxis\" data-z-index=\"2\"><text x=\"21.8125\" data-z-index=\"7\" text-anchor=\"middle\" transform=\"translate(0,0) rotate(270 21.8125 204)\" class=\"highcharts-axis-title\" style=\"color:#4f4f4f;font-size:10px;font-weight:normal;fill:#4f4f4f;\" y=\"204\"><tspan>Años</tspan></text><path fill=\"none\" class=\"highcharts-axis-line\" data-z-index=\"7\" d=\"M 79 10 L 79 398\"></path></g><g class=\"highcharts-axis highcharts-yaxis\" data-z-index=\"2\"><text x=\"382\" data-z-index=\"7\" text-anchor=\"middle\" transform=\"translate(0,0)\" class=\"highcharts-axis-title\" style=\"color:#808080;font-size:10px;font-weight:normal;fill:#808080;\" y=\"433\"><tspan>Porcentaje de población</tspan></text><path fill=\"none\" class=\"highcharts-axis-line\" data-z-index=\"7\" d=\"M 79 398 L 685 398\"></path></g><g class=\"highcharts-series-group\" data-z-index=\"3\"><g data-z-index=\"0.1\" class=\"highcharts-series highcharts-series-0 highcharts-bar-series highcharts-color-0 highcharts-tracker\" transform=\"translate(685,398) rotate(90) scale(-1,1) scale(1 1)\" style=\"cursor:pointer;\" clip-path=\"url(#highcharts-29cxzig-1-)\" width=\"606\" height=\"388\"><rect x=\"338\" y=\"62\" width=\"37\" height=\"545\" fill=\"rgb(40,118,221)\" opacity=\"1\" class=\"highcharts-point highcharts-color-0\"></rect><rect x=\"273\" y=\"89\" width=\"37\" height=\"518\" fill=\"rgb(40,118,221)\" opacity=\"1\" class=\"highcharts-point highcharts-color-0\"></rect><rect x=\"208\" y=\"151\" width=\"37\" height=\"456\" fill=\"rgb(40,118,221)\" opacity=\"1\" class=\"highcharts-point highcharts-color-0\"></rect><rect x=\"144\" y=\"223\" width=\"37\" height=\"384\" fill=\"rgb(40,118,221)\" opacity=\"1\" class=\"highcharts-point highcharts-color-0\"></rect><rect x=\"79\" y=\"322\" width=\"37\" height=\"285\" fill=\"rgb(40,118,221)\" opacity=\"1\" class=\"highcharts-point highcharts-color-0\"></rect><rect x=\"14\" y=\"416\" width=\"37\" height=\"191\" fill=\"rgb(40,118,221)\" opacity=\"1\" class=\"highcharts-point highcharts-color-0\"></rect></g><g data-z-index=\"0.1\" class=\"highcharts-markers highcharts-series-0 highcharts-bar-series highcharts-color-0\" transform=\"translate(685,398) rotate(90) scale(-1,1) scale(1 1)\" clip-path=\"none\"></g></g><g data-z-index=\"3\" class=\"highcharts-data-labels highcharts-series-0 highcharts-bar-series highcharts-color-0 highcharts-tracker\" transform=\"translate(79,10) scale(1 1)\" opacity=\"1\" style=\"cursor:pointer;\"><g class=\"highcharts-label highcharts-data-label highcharts-data-label-color-0\" data-z-index=\"1\" transform=\"translate(544,20)\" style=\"text-shadow:null;\"><text x=\"5\" data-z-index=\"1\" style=\"font-size:11px;font-weight:bold;color:#4f4f4f;cursor:pointer;fill:#4f4f4f;\" y=\"16\"><tspan x=\"5\" y=\"16\" class=\"highcharts-text-outline\" fill=\"#FFFFFF\" stroke=\"#FFFFFF\" stroke-width=\"2px\" stroke-linejoin=\"round\" style=\"\">90%</tspan><tspan x=\"5\" y=\"16\">90%</tspan></text></g><g class=\"highcharts-label highcharts-data-label highcharts-data-label-color-0\" data-z-index=\"1\" transform=\"translate(517,85)\" style=\"text-shadow:null;\"><text x=\"5\" data-z-index=\"1\" style=\"font-size:11px;font-weight:bold;color:#4f4f4f;cursor:pointer;fill:#4f4f4f;\" y=\"16\"><tspan x=\"5\" y=\"16\" class=\"highcharts-text-outline\" fill=\"#FFFFFF\" stroke=\"#FFFFFF\" stroke-width=\"2px\" stroke-linejoin=\"round\" style=\"\">85,4%</tspan><tspan x=\"5\" y=\"16\">85,4%</tspan></text></g><g class=\"highcharts-label highcharts-data-label highcharts-data-label-color-0\" data-z-index=\"1\" transform=\"translate(455,150)\" style=\"text-shadow:null;\"><text x=\"5\" data-z-index=\"1\" style=\"font-size:11px;font-weight:bold;color:#4f4f4f;cursor:pointer;fill:#4f4f4f;\" y=\"16\"><tspan x=\"5\" y=\"16\" class=\"highcharts-text-outline\" fill=\"#FFFFFF\" stroke=\"#FFFFFF\" stroke-width=\"2px\" stroke-linejoin=\"round\">75,3%</tspan><tspan x=\"5\" y=\"16\">75,3%</tspan></text></g><g class=\"highcharts-label highcharts-data-label highcharts-data-label-color-0\" data-z-index=\"1\" transform=\"translate(383,214)\" style=\"text-shadow:null;\"><text x=\"5\" data-z-index=\"1\" style=\"font-size:11px;font-weight:bold;color:#4f4f4f;cursor:pointer;fill:#4f4f4f;\" y=\"16\"><tspan x=\"5\" y=\"16\" class=\"highcharts-text-outline\" fill=\"#FFFFFF\" stroke=\"#FFFFFF\" stroke-width=\"2px\" stroke-linejoin=\"round\">63,4%</tspan><tspan x=\"5\" y=\"16\">63,4%</tspan></text></g><g class=\"highcharts-label highcharts-data-label highcharts-data-label-color-0\" data-z-index=\"1\" transform=\"translate(284,279)\" style=\"text-shadow:null;\"><text x=\"5\" data-z-index=\"1\" style=\"font-size:11px;font-weight:bold;color:#4f4f4f;cursor:pointer;fill:#4f4f4f;\" y=\"16\"><tspan x=\"5\" y=\"16\" class=\"highcharts-text-outline\" fill=\"#FFFFFF\" stroke=\"#FFFFFF\" stroke-width=\"2px\" stroke-linejoin=\"round\">47,1%</tspan><tspan x=\"5\" y=\"16\">47,1%</tspan></text></g><g class=\"highcharts-label highcharts-data-label highcharts-data-label-color-0\" data-z-index=\"1\" transform=\"translate(190,344)\" style=\"text-shadow:null;\"><text x=\"5\" data-z-index=\"1\" style=\"font-size:11px;font-weight:bold;color:#4f4f4f;cursor:pointer;fill:#4f4f4f;\" y=\"16\"><tspan x=\"5\" y=\"16\" class=\"highcharts-text-outline\" fill=\"#FFFFFF\" stroke=\"#FFFFFF\" stroke-width=\"2px\" stroke-linejoin=\"round\">31,6%</tspan><tspan x=\"5\" y=\"16\">31,6%</tspan></text></g></g><g class=\"highcharts-exporting-group\" data-z-index=\"3\"></g><text x=\"348\" text-anchor=\"middle\" class=\"highcharts-title\" data-z-index=\"4\" style=\"color:#333333;font-size:18px;fill:#333333;\" y=\"24\"></text><text x=\"348\" text-anchor=\"middle\" class=\"highcharts-subtitle\" data-z-index=\"4\" style=\"color:#666666;fill:#666666;\" y=\"24\"></text><text x=\"10\" text-anchor=\"start\" class=\"highcharts-caption\" data-z-index=\"4\" style=\"color:#666666;fill:#666666;\" y=\"447\"></text><g class=\"highcharts-plot-lines-6\" data-z-index=\"6\"><path fill=\"none\" class=\"highcharts-plot-line \" stroke=\"#121212\" stroke-width=\"1\" d=\"M 78.5 10 L 78.5 398\"></path></g><g class=\"highcharts-axis-labels highcharts-xaxis-labels\" data-z-index=\"7\"><text x=\"66\" style=\"color:#666666;cursor:default;font-size:11px;padding-bottom:0px;line-height:;text-align:right;text-overflow:none;fill:#666666;\" text-anchor=\"end\" transform=\"translate(0,0)\" y=\"47\" opacity=\"1\">16-24</text><text x=\"66\" style=\"color:#666666;cursor:default;font-size:11px;padding-bottom:0px;line-height:;text-align:right;text-overflow:none;fill:#666666;\" text-anchor=\"end\" transform=\"translate(0,0)\" y=\"112\" opacity=\"1\">25-34</text><text x=\"66\" style=\"color:#666666;cursor:default;font-size:11px;padding-bottom:0px;line-height:;text-align:right;text-overflow:none;fill:#666666;\" text-anchor=\"end\" transform=\"translate(0,0)\" y=\"176\" opacity=\"1\">35-44</text><text x=\"66\" style=\"color:#666666;cursor:default;font-size:11px;padding-bottom:0px;line-height:;text-align:right;text-overflow:none;fill:#666666;\" text-anchor=\"end\" transform=\"translate(0,0)\" y=\"241\" opacity=\"1\">45-54</text><text x=\"66\" style=\"color:#666666;cursor:default;font-size:11px;padding-bottom:0px;line-height:;text-align:right;text-overflow:none;fill:#666666;\" text-anchor=\"end\" transform=\"translate(0,0)\" y=\"306\" opacity=\"1\">55-64</text><text x=\"66\" style=\"color:#666666;cursor:default;font-size:11px;padding-bottom:0px;line-height:;text-align:right;text-overflow:none;fill:#666666;\" text-anchor=\"end\" transform=\"translate(0,0)\" y=\"370\" opacity=\"1\">65-74</text></g><g class=\"highcharts-axis-labels highcharts-yaxis-labels\" data-z-index=\"7\"></g><g class=\"highcharts-label highcharts-tooltip                                   highcharts-color-0\" style=\"pointer-events:none;white-space:nowrap;z-index:9999;\" data-z-index=\"8\" transform=\"translate(202,-9999)\" opacity=\"0\" visibility=\"visible\"><path fill=\"rgba(255,255,255,1)\" class=\"highcharts-label-box highcharts-tooltip-box\" d=\"M 2.5 0.5 L 160.5 0.5 C 162.5 0.5 162.5 0.5 162.5 2.5 L 162.5 75.5 C 162.5 77.5 162.5 77.5 160.5 77.5 L 2.5 77.5 C 0.5 77.5 0.5 77.5 0.5 75.5 L 0.5 2.5 C 0.5 0.5 0.5 0.5 2.5 0.5\" stroke=\"#aaaaaa\" stroke-width=\"1\"></path></g><g class=\"highcharts-control-points\" data-z-index=\"99\" clip-path=\"url(#highcharts-29cxzig-8-)\"></g></svg>\"\"\""
   ]
  },
  {
   "cell_type": "code",
   "execution_count": 13,
   "metadata": {},
   "outputs": [
    {
     "data": {
      "application/vnd.plotly.v1+json": {
       "config": {
        "plotlyServerURL": "https://plot.ly"
       },
       "data": [
        {
         "alignmentgroup": "True",
         "hovertemplate": "<b>Edad:</b> %{x}<br><b>Porcentaje de usuarios:</b> %{y:.2f}%",
         "legendgroup": "",
         "marker": {
          "color": "#636efa",
          "pattern": {
           "shape": ""
          }
         },
         "name": "",
         "offsetgroup": "",
         "orientation": "v",
         "showlegend": false,
         "textposition": "auto",
         "type": "bar",
         "x": [
          "16-24",
          "25-34",
          "35-44",
          "45-54",
          "55-64",
          "65-74"
         ],
         "xaxis": "x",
         "y": [
          90,
          85.4,
          75.3,
          63.4,
          47.1,
          31.6
         ],
         "yaxis": "y"
        }
       ],
       "layout": {
        "barmode": "relative",
        "legend": {
         "tracegroupgap": 0
        },
        "template": {
         "data": {
          "bar": [
           {
            "error_x": {
             "color": "#2a3f5f"
            },
            "error_y": {
             "color": "#2a3f5f"
            },
            "marker": {
             "line": {
              "color": "#E5ECF6",
              "width": 0.5
             },
             "pattern": {
              "fillmode": "overlay",
              "size": 10,
              "solidity": 0.2
             }
            },
            "type": "bar"
           }
          ],
          "barpolar": [
           {
            "marker": {
             "line": {
              "color": "#E5ECF6",
              "width": 0.5
             },
             "pattern": {
              "fillmode": "overlay",
              "size": 10,
              "solidity": 0.2
             }
            },
            "type": "barpolar"
           }
          ],
          "carpet": [
           {
            "aaxis": {
             "endlinecolor": "#2a3f5f",
             "gridcolor": "white",
             "linecolor": "white",
             "minorgridcolor": "white",
             "startlinecolor": "#2a3f5f"
            },
            "baxis": {
             "endlinecolor": "#2a3f5f",
             "gridcolor": "white",
             "linecolor": "white",
             "minorgridcolor": "white",
             "startlinecolor": "#2a3f5f"
            },
            "type": "carpet"
           }
          ],
          "choropleth": [
           {
            "colorbar": {
             "outlinewidth": 0,
             "ticks": ""
            },
            "type": "choropleth"
           }
          ],
          "contour": [
           {
            "colorbar": {
             "outlinewidth": 0,
             "ticks": ""
            },
            "colorscale": [
             [
              0,
              "#0d0887"
             ],
             [
              0.1111111111111111,
              "#46039f"
             ],
             [
              0.2222222222222222,
              "#7201a8"
             ],
             [
              0.3333333333333333,
              "#9c179e"
             ],
             [
              0.4444444444444444,
              "#bd3786"
             ],
             [
              0.5555555555555556,
              "#d8576b"
             ],
             [
              0.6666666666666666,
              "#ed7953"
             ],
             [
              0.7777777777777778,
              "#fb9f3a"
             ],
             [
              0.8888888888888888,
              "#fdca26"
             ],
             [
              1,
              "#f0f921"
             ]
            ],
            "type": "contour"
           }
          ],
          "contourcarpet": [
           {
            "colorbar": {
             "outlinewidth": 0,
             "ticks": ""
            },
            "type": "contourcarpet"
           }
          ],
          "heatmap": [
           {
            "colorbar": {
             "outlinewidth": 0,
             "ticks": ""
            },
            "colorscale": [
             [
              0,
              "#0d0887"
             ],
             [
              0.1111111111111111,
              "#46039f"
             ],
             [
              0.2222222222222222,
              "#7201a8"
             ],
             [
              0.3333333333333333,
              "#9c179e"
             ],
             [
              0.4444444444444444,
              "#bd3786"
             ],
             [
              0.5555555555555556,
              "#d8576b"
             ],
             [
              0.6666666666666666,
              "#ed7953"
             ],
             [
              0.7777777777777778,
              "#fb9f3a"
             ],
             [
              0.8888888888888888,
              "#fdca26"
             ],
             [
              1,
              "#f0f921"
             ]
            ],
            "type": "heatmap"
           }
          ],
          "heatmapgl": [
           {
            "colorbar": {
             "outlinewidth": 0,
             "ticks": ""
            },
            "colorscale": [
             [
              0,
              "#0d0887"
             ],
             [
              0.1111111111111111,
              "#46039f"
             ],
             [
              0.2222222222222222,
              "#7201a8"
             ],
             [
              0.3333333333333333,
              "#9c179e"
             ],
             [
              0.4444444444444444,
              "#bd3786"
             ],
             [
              0.5555555555555556,
              "#d8576b"
             ],
             [
              0.6666666666666666,
              "#ed7953"
             ],
             [
              0.7777777777777778,
              "#fb9f3a"
             ],
             [
              0.8888888888888888,
              "#fdca26"
             ],
             [
              1,
              "#f0f921"
             ]
            ],
            "type": "heatmapgl"
           }
          ],
          "histogram": [
           {
            "marker": {
             "pattern": {
              "fillmode": "overlay",
              "size": 10,
              "solidity": 0.2
             }
            },
            "type": "histogram"
           }
          ],
          "histogram2d": [
           {
            "colorbar": {
             "outlinewidth": 0,
             "ticks": ""
            },
            "colorscale": [
             [
              0,
              "#0d0887"
             ],
             [
              0.1111111111111111,
              "#46039f"
             ],
             [
              0.2222222222222222,
              "#7201a8"
             ],
             [
              0.3333333333333333,
              "#9c179e"
             ],
             [
              0.4444444444444444,
              "#bd3786"
             ],
             [
              0.5555555555555556,
              "#d8576b"
             ],
             [
              0.6666666666666666,
              "#ed7953"
             ],
             [
              0.7777777777777778,
              "#fb9f3a"
             ],
             [
              0.8888888888888888,
              "#fdca26"
             ],
             [
              1,
              "#f0f921"
             ]
            ],
            "type": "histogram2d"
           }
          ],
          "histogram2dcontour": [
           {
            "colorbar": {
             "outlinewidth": 0,
             "ticks": ""
            },
            "colorscale": [
             [
              0,
              "#0d0887"
             ],
             [
              0.1111111111111111,
              "#46039f"
             ],
             [
              0.2222222222222222,
              "#7201a8"
             ],
             [
              0.3333333333333333,
              "#9c179e"
             ],
             [
              0.4444444444444444,
              "#bd3786"
             ],
             [
              0.5555555555555556,
              "#d8576b"
             ],
             [
              0.6666666666666666,
              "#ed7953"
             ],
             [
              0.7777777777777778,
              "#fb9f3a"
             ],
             [
              0.8888888888888888,
              "#fdca26"
             ],
             [
              1,
              "#f0f921"
             ]
            ],
            "type": "histogram2dcontour"
           }
          ],
          "mesh3d": [
           {
            "colorbar": {
             "outlinewidth": 0,
             "ticks": ""
            },
            "type": "mesh3d"
           }
          ],
          "parcoords": [
           {
            "line": {
             "colorbar": {
              "outlinewidth": 0,
              "ticks": ""
             }
            },
            "type": "parcoords"
           }
          ],
          "pie": [
           {
            "automargin": true,
            "type": "pie"
           }
          ],
          "scatter": [
           {
            "fillpattern": {
             "fillmode": "overlay",
             "size": 10,
             "solidity": 0.2
            },
            "type": "scatter"
           }
          ],
          "scatter3d": [
           {
            "line": {
             "colorbar": {
              "outlinewidth": 0,
              "ticks": ""
             }
            },
            "marker": {
             "colorbar": {
              "outlinewidth": 0,
              "ticks": ""
             }
            },
            "type": "scatter3d"
           }
          ],
          "scattercarpet": [
           {
            "marker": {
             "colorbar": {
              "outlinewidth": 0,
              "ticks": ""
             }
            },
            "type": "scattercarpet"
           }
          ],
          "scattergeo": [
           {
            "marker": {
             "colorbar": {
              "outlinewidth": 0,
              "ticks": ""
             }
            },
            "type": "scattergeo"
           }
          ],
          "scattergl": [
           {
            "marker": {
             "colorbar": {
              "outlinewidth": 0,
              "ticks": ""
             }
            },
            "type": "scattergl"
           }
          ],
          "scattermapbox": [
           {
            "marker": {
             "colorbar": {
              "outlinewidth": 0,
              "ticks": ""
             }
            },
            "type": "scattermapbox"
           }
          ],
          "scatterpolar": [
           {
            "marker": {
             "colorbar": {
              "outlinewidth": 0,
              "ticks": ""
             }
            },
            "type": "scatterpolar"
           }
          ],
          "scatterpolargl": [
           {
            "marker": {
             "colorbar": {
              "outlinewidth": 0,
              "ticks": ""
             }
            },
            "type": "scatterpolargl"
           }
          ],
          "scatterternary": [
           {
            "marker": {
             "colorbar": {
              "outlinewidth": 0,
              "ticks": ""
             }
            },
            "type": "scatterternary"
           }
          ],
          "surface": [
           {
            "colorbar": {
             "outlinewidth": 0,
             "ticks": ""
            },
            "colorscale": [
             [
              0,
              "#0d0887"
             ],
             [
              0.1111111111111111,
              "#46039f"
             ],
             [
              0.2222222222222222,
              "#7201a8"
             ],
             [
              0.3333333333333333,
              "#9c179e"
             ],
             [
              0.4444444444444444,
              "#bd3786"
             ],
             [
              0.5555555555555556,
              "#d8576b"
             ],
             [
              0.6666666666666666,
              "#ed7953"
             ],
             [
              0.7777777777777778,
              "#fb9f3a"
             ],
             [
              0.8888888888888888,
              "#fdca26"
             ],
             [
              1,
              "#f0f921"
             ]
            ],
            "type": "surface"
           }
          ],
          "table": [
           {
            "cells": {
             "fill": {
              "color": "#EBF0F8"
             },
             "line": {
              "color": "white"
             }
            },
            "header": {
             "fill": {
              "color": "#C8D4E3"
             },
             "line": {
              "color": "white"
             }
            },
            "type": "table"
           }
          ]
         },
         "layout": {
          "annotationdefaults": {
           "arrowcolor": "#2a3f5f",
           "arrowhead": 0,
           "arrowwidth": 1
          },
          "autotypenumbers": "strict",
          "coloraxis": {
           "colorbar": {
            "outlinewidth": 0,
            "ticks": ""
           }
          },
          "colorscale": {
           "diverging": [
            [
             0,
             "#8e0152"
            ],
            [
             0.1,
             "#c51b7d"
            ],
            [
             0.2,
             "#de77ae"
            ],
            [
             0.3,
             "#f1b6da"
            ],
            [
             0.4,
             "#fde0ef"
            ],
            [
             0.5,
             "#f7f7f7"
            ],
            [
             0.6,
             "#e6f5d0"
            ],
            [
             0.7,
             "#b8e186"
            ],
            [
             0.8,
             "#7fbc41"
            ],
            [
             0.9,
             "#4d9221"
            ],
            [
             1,
             "#276419"
            ]
           ],
           "sequential": [
            [
             0,
             "#0d0887"
            ],
            [
             0.1111111111111111,
             "#46039f"
            ],
            [
             0.2222222222222222,
             "#7201a8"
            ],
            [
             0.3333333333333333,
             "#9c179e"
            ],
            [
             0.4444444444444444,
             "#bd3786"
            ],
            [
             0.5555555555555556,
             "#d8576b"
            ],
            [
             0.6666666666666666,
             "#ed7953"
            ],
            [
             0.7777777777777778,
             "#fb9f3a"
            ],
            [
             0.8888888888888888,
             "#fdca26"
            ],
            [
             1,
             "#f0f921"
            ]
           ],
           "sequentialminus": [
            [
             0,
             "#0d0887"
            ],
            [
             0.1111111111111111,
             "#46039f"
            ],
            [
             0.2222222222222222,
             "#7201a8"
            ],
            [
             0.3333333333333333,
             "#9c179e"
            ],
            [
             0.4444444444444444,
             "#bd3786"
            ],
            [
             0.5555555555555556,
             "#d8576b"
            ],
            [
             0.6666666666666666,
             "#ed7953"
            ],
            [
             0.7777777777777778,
             "#fb9f3a"
            ],
            [
             0.8888888888888888,
             "#fdca26"
            ],
            [
             1,
             "#f0f921"
            ]
           ]
          },
          "colorway": [
           "#636efa",
           "#EF553B",
           "#00cc96",
           "#ab63fa",
           "#FFA15A",
           "#19d3f3",
           "#FF6692",
           "#B6E880",
           "#FF97FF",
           "#FECB52"
          ],
          "font": {
           "color": "#2a3f5f"
          },
          "geo": {
           "bgcolor": "white",
           "lakecolor": "white",
           "landcolor": "#E5ECF6",
           "showlakes": true,
           "showland": true,
           "subunitcolor": "white"
          },
          "hoverlabel": {
           "align": "left"
          },
          "hovermode": "closest",
          "mapbox": {
           "style": "light"
          },
          "paper_bgcolor": "white",
          "plot_bgcolor": "#E5ECF6",
          "polar": {
           "angularaxis": {
            "gridcolor": "white",
            "linecolor": "white",
            "ticks": ""
           },
           "bgcolor": "#E5ECF6",
           "radialaxis": {
            "gridcolor": "white",
            "linecolor": "white",
            "ticks": ""
           }
          },
          "scene": {
           "xaxis": {
            "backgroundcolor": "#E5ECF6",
            "gridcolor": "white",
            "gridwidth": 2,
            "linecolor": "white",
            "showbackground": true,
            "ticks": "",
            "zerolinecolor": "white"
           },
           "yaxis": {
            "backgroundcolor": "#E5ECF6",
            "gridcolor": "white",
            "gridwidth": 2,
            "linecolor": "white",
            "showbackground": true,
            "ticks": "",
            "zerolinecolor": "white"
           },
           "zaxis": {
            "backgroundcolor": "#E5ECF6",
            "gridcolor": "white",
            "gridwidth": 2,
            "linecolor": "white",
            "showbackground": true,
            "ticks": "",
            "zerolinecolor": "white"
           }
          },
          "shapedefaults": {
           "line": {
            "color": "#2a3f5f"
           }
          },
          "ternary": {
           "aaxis": {
            "gridcolor": "white",
            "linecolor": "white",
            "ticks": ""
           },
           "baxis": {
            "gridcolor": "white",
            "linecolor": "white",
            "ticks": ""
           },
           "bgcolor": "#E5ECF6",
           "caxis": {
            "gridcolor": "white",
            "linecolor": "white",
            "ticks": ""
           }
          },
          "title": {
           "x": 0.05
          },
          "xaxis": {
           "automargin": true,
           "gridcolor": "white",
           "linecolor": "white",
           "ticks": "",
           "title": {
            "standoff": 15
           },
           "zerolinecolor": "white",
           "zerolinewidth": 2
          },
          "yaxis": {
           "automargin": true,
           "gridcolor": "white",
           "linecolor": "white",
           "ticks": "",
           "title": {
            "standoff": 15
           },
           "zerolinecolor": "white",
           "zerolinewidth": 2
          }
         }
        },
        "title": {
         "text": "Porcentaje de usuarios de redes sociales por edades en España"
        },
        "xaxis": {
         "anchor": "y",
         "domain": [
          0,
          1
         ],
         "title": {
          "text": "Edades"
         }
        },
        "yaxis": {
         "anchor": "x",
         "domain": [
          0,
          1
         ],
         "title": {
          "text": "Porcentaje"
         }
        }
       }
      }
     },
     "metadata": {},
     "output_type": "display_data"
    }
   ],
   "source": [
    "datos = [text.get_text() for text in BeautifulSoup(svg)][0]\n",
    "datos = datos.replace('población', '|').split('|')[1]\n",
    "\n",
    "ages = re.findall(r'\\d{2}-\\d{2}', datos)\n",
    "porcentajes = list(set(re.findall(r'\\d{1,3},?\\d?%', datos)))\n",
    "porcentajes = sorted(list(map(lambda x: float(x.replace('%', '').replace(',', '.')), porcentajes)), reverse=True)\n",
    "\n",
    "df = pd.DataFrame({'Edades': ages, 'Porcentaje': porcentajes})\n",
    "df.to_csv(os.path.join(output_datasets, 'social_media_usage_by_age.csv'), index=False)\n",
    "\n",
    "fig = px.bar(df, x='Edades', y='Porcentaje', title='Porcentaje de usuarios de redes sociales por edades en España')\n",
    "\n",
    "fig.update_traces(\n",
    "\thovertemplate=\"<b>Edad:</b> %{x}<br>\" +\n",
    "\t\t\t\t  \"<b>Porcentaje de usuarios:</b> %{y:.2f}%\"\n",
    ")\n",
    "\n",
    "fig.show()"
   ]
  },
  {
   "cell_type": "code",
   "execution_count": 14,
   "metadata": {},
   "outputs": [
    {
     "data": {
      "text/plain": [
       "Index(['Author and Year', 'Study Design', 'Study Period', 'Country', 'Equity',\n",
       "       'Participants', 'Mean Age [Range]', 'Risk of Bias', 'Number of dp',\n",
       "       'MA?', 'Exposure', 'Exposure Measure', 'Outcome Measure', 'N'],\n",
       "      dtype='object')"
      ]
     },
     "execution_count": 14,
     "metadata": {},
     "output_type": "execute_result"
    }
   ],
   "source": [
    "estudios = pd.read_csv(os.path.join(output_datasets, 'bmj_tables.csv'))\n",
    "estudios.columns"
   ]
  },
  {
   "cell_type": "code",
   "execution_count": 15,
   "metadata": {},
   "outputs": [
    {
     "data": {
      "text/html": [
       "<div>\n",
       "<style scoped>\n",
       "    .dataframe tbody tr th:only-of-type {\n",
       "        vertical-align: middle;\n",
       "    }\n",
       "\n",
       "    .dataframe tbody tr th {\n",
       "        vertical-align: top;\n",
       "    }\n",
       "\n",
       "    .dataframe thead th {\n",
       "        text-align: right;\n",
       "    }\n",
       "</style>\n",
       "<table border=\"1\" class=\"dataframe\">\n",
       "  <thead>\n",
       "    <tr style=\"text-align: right;\">\n",
       "      <th></th>\n",
       "      <th>Author and Year</th>\n",
       "      <th>Study Design</th>\n",
       "      <th>Study Period</th>\n",
       "      <th>Country</th>\n",
       "      <th>Equity</th>\n",
       "      <th>Participants</th>\n",
       "      <th>Mean Age [Range]</th>\n",
       "      <th>Risk of Bias</th>\n",
       "      <th>Number of dp</th>\n",
       "      <th>MA?</th>\n",
       "      <th>Exposure</th>\n",
       "      <th>Exposure Measure</th>\n",
       "      <th>Outcome Measure</th>\n",
       "      <th>N</th>\n",
       "    </tr>\n",
       "  </thead>\n",
       "  <tbody>\n",
       "    <tr>\n",
       "      <th>5</th>\n",
       "      <td>Baldwin 2018</td>\n",
       "      <td>Cross-sectional</td>\n",
       "      <td>2014</td>\n",
       "      <td>Australia</td>\n",
       "      <td>High income country with mixed SEP</td>\n",
       "      <td>Adolescents residing in New South Wales</td>\n",
       "      <td>NR [10-16]</td>\n",
       "      <td>Low</td>\n",
       "      <td>7</td>\n",
       "      <td>Yes</td>\n",
       "      <td>Exposure to health-risk behaviour content</td>\n",
       "      <td>Seen favourite food advertised on SM</td>\n",
       "      <td>Freq. of unhealthy food consumption</td>\n",
       "      <td>417</td>\n",
       "    </tr>\n",
       "    <tr>\n",
       "      <th>7</th>\n",
       "      <td>Baldwin 2018</td>\n",
       "      <td>Cross-sectional</td>\n",
       "      <td>2014</td>\n",
       "      <td>Australia</td>\n",
       "      <td>High income country with mixed SEP</td>\n",
       "      <td>Adolescents residing in New South Wales</td>\n",
       "      <td>NR [10-16]</td>\n",
       "      <td>Low</td>\n",
       "      <td>7</td>\n",
       "      <td>Yes</td>\n",
       "      <td>Exposure to health-risk behaviour content</td>\n",
       "      <td>Seen favourite food advertised on SM</td>\n",
       "      <td>Freq. of unhealthy drink consumption</td>\n",
       "      <td>204</td>\n",
       "    </tr>\n",
       "  </tbody>\n",
       "</table>\n",
       "</div>"
      ],
      "text/plain": [
       "  Author and Year     Study Design Study Period    Country  \\\n",
       "5    Baldwin 2018  Cross-sectional         2014  Australia   \n",
       "7    Baldwin 2018  Cross-sectional         2014  Australia   \n",
       "\n",
       "                               Equity  \\\n",
       "5  High income country with mixed SEP   \n",
       "7  High income country with mixed SEP   \n",
       "\n",
       "                              Participants Mean Age [Range] Risk of Bias  \\\n",
       "5  Adolescents residing in New South Wales       NR [10-16]          Low   \n",
       "7  Adolescents residing in New South Wales       NR [10-16]          Low   \n",
       "\n",
       "   Number of dp  MA?                                   Exposure  \\\n",
       "5             7  Yes  Exposure to health-risk behaviour content   \n",
       "7             7  Yes  Exposure to health-risk behaviour content   \n",
       "\n",
       "                       Exposure Measure                       Outcome Measure  \\\n",
       "5  Seen favourite food advertised on SM   Freq. of unhealthy food consumption   \n",
       "7  Seen favourite food advertised on SM  Freq. of unhealthy drink consumption   \n",
       "\n",
       "     N  \n",
       "5  417  \n",
       "7  204  "
      ]
     },
     "execution_count": 15,
     "metadata": {},
     "output_type": "execute_result"
    }
   ],
   "source": [
    "estudios[estudios['Exposure Measure'] == 'Seen favourite food advertised on SM']"
   ]
  },
  {
   "cell_type": "code",
   "execution_count": 31,
   "metadata": {},
   "outputs": [
    {
     "data": {
      "text/html": [
       "\n",
       "        <iframe\n",
       "            width=\"100%\"\n",
       "            height=\"650\"\n",
       "            src=\"http://127.0.0.1:8040/\"\n",
       "            frameborder=\"0\"\n",
       "            allowfullscreen\n",
       "            \n",
       "        ></iframe>\n",
       "        "
      ],
      "text/plain": [
       "<IPython.lib.display.IFrame at 0x152b6b050>"
      ]
     },
     "metadata": {},
     "output_type": "display_data"
    }
   ],
   "source": [
    "estudios['N'] = pd.to_numeric(estudios['N'], errors='coerce')\n",
    "estudios = estudios.dropna(subset=['N'])\n",
    "estudios['N'] = estudios['N'].astype(int)\n",
    "exposiciones = estudios['Exposure Measure'].unique()\n",
    "autores = estudios['Author and Year'].unique()\n",
    "\n",
    "app = dash.Dash(__name__)\n",
    "\n",
    "app.layout = html.Div([\n",
    "    html.H1(\"Efectos de las redes sociales\", style={'textAlign': 'center', 'color': 'white'}),\n",
    "\n",
    "    dcc.Tabs([\n",
    "        dcc.Tab(label='Resultados por exposición', children=[\n",
    "            html.H3(\"Seleccione una exposición:\", style={'color': 'white'}),\n",
    "            dcc.Dropdown(\n",
    "                id='dropdown-exposure',\n",
    "                options=[{'label': exp, 'value': exp} for exp in exposiciones],\n",
    "                value=exposiciones[0],\n",
    "                style={'width': '50%'}\n",
    "            ),\n",
    "            dcc.Graph(id='pie-chart-exposures')\n",
    "        ]),\n",
    "\n",
    "        dcc.Tab(label='Distribución de participantes por estudio', children=[\n",
    "            html.H3(\"Seleccione un autor:\", style={'color': 'white'}),\n",
    "            dcc.Dropdown(\n",
    "                id='dropdown-author',\n",
    "                options=[{'label': author, 'value': author} for author in autores],\n",
    "                value=autores[0],\n",
    "                style={'width': '50%'}\n",
    "            ),\n",
    "            dcc.Graph(id='bar-chart-participants')\n",
    "        ]),\n",
    "\n",
    "        dcc.Tab(label='Relación entre edad media y participantes', children=[\n",
    "            html.H3(\"Seleccione una exposición:\", style={'color': 'white'}),\n",
    "            dcc.Dropdown(\n",
    "                id='scatter-exposure',\n",
    "                options=[{'label': exp, 'value': exp} for exp in exposiciones],\n",
    "                value=exposiciones[0],\n",
    "                style={'width': '50%'}\n",
    "            ),\n",
    "            dcc.Graph(id='scatter-plot-age-n')\n",
    "        ]),\n",
    "\n",
    "        dcc.Tab(label='Tabla interactiva de estudios', children=[\n",
    "            html.H3(\"Datos completos de los estudios:\", style={'color': 'white'}),\n",
    "            DataTable(\n",
    "                id='table',\n",
    "                columns=[{'name': col, 'id': col} for col in estudios.columns],\n",
    "                data=estudios.to_dict('records'),\n",
    "                filter_action='native',\n",
    "                sort_action='native',\n",
    "                style_table={'overflowX': 'auto'},\n",
    "                style_cell={'textAlign': 'left'},\n",
    "            )\n",
    "        ]),\n",
    "\n",
    "        dcc.Tab(label='Mapa geográfico', children=[\n",
    "            html.H3(\"Seleccione una exposición:\", style={'color': 'white'}),\n",
    "            dcc.Dropdown(\n",
    "                id='geo-exposure',\n",
    "                options=[{'label': exp, 'value': exp} for exp in exposiciones],\n",
    "                value=exposiciones[0],\n",
    "                style={'width': '50%'}\n",
    "            ),\n",
    "            dcc.Graph(id='geo-map')\n",
    "        ]),\n",
    "    ])\n",
    "])\n",
    "\n",
    "# Callback para el gráfico circular\n",
    "@app.callback(\n",
    "    Output('pie-chart-exposures', 'figure'),\n",
    "    Input('dropdown-exposure', 'value')\n",
    ")\n",
    "def update_pie_chart(exposure):\n",
    "    data = estudios[estudios['Exposure Measure'] == exposure]\n",
    "    fig = px.pie(\n",
    "        data,\n",
    "        names='Author and Year',\n",
    "        values='N',\n",
    "        title=f\"Distribución de estudios para la exposición: {exposure}\",\n",
    "        labels={'N': 'Participantes', 'Author and Year': 'Estudio'}\n",
    "    )\n",
    "    fig.update_traces(textinfo='percent+label', hovertemplate=\"<b>Estudio:</b> %{label}<br><b>Participantes:</b> %{value}<br><b>Porcentaje:</b> %{percent}\")\n",
    "    return fig\n",
    "\n",
    "# Callback para el gráfico de barras\n",
    "@app.callback(\n",
    "    Output('bar-chart-participants', 'figure'),\n",
    "    Input('dropdown-author', 'value')\n",
    ")\n",
    "def update_bar_chart(author):\n",
    "    data = estudios[estudios['Author and Year'] == author]\n",
    "    fig = px.bar(\n",
    "        data,\n",
    "        x='Exposure Measure',\n",
    "        y='N',\n",
    "        title=f\"Número de participantes por exposición para {author}\",\n",
    "        labels={'N': 'Participantes', 'Exposure Measure': 'Medida de Exposición'},\n",
    "        color='Exposure Measure'\n",
    "    )\n",
    "    fig.update_layout(xaxis_title=\"Medida de Exposición\", yaxis_title=\"Número de Participantes\")\n",
    "    return fig\n",
    "\n",
    "# Callback para el gráfico de dispersión\n",
    "@app.callback(\n",
    "    Output('scatter-plot-age-n', 'figure'),\n",
    "    Input('scatter-exposure', 'value')\n",
    ")\n",
    "def update_scatter_plot(exposure):\n",
    "    data = estudios[estudios['Exposure Measure'] == exposure]\n",
    "    fig = px.scatter(\n",
    "        data,\n",
    "        x='Mean Age [Range]',\n",
    "        y='N',\n",
    "        title=f\"Relación entre edad media y participantes para {exposure}\",\n",
    "        labels={'Mean Age [Range]': 'Edad Media [Rango]', 'N': 'Número de Participantes'},\n",
    "        color='Author and Year',\n",
    "        size='N'\n",
    "    )\n",
    "    fig.update_layout(xaxis_title=\"Edad Media [Rango]\", yaxis_title=\"Número de Participantes\")\n",
    "    return fig\n",
    "\n",
    "# Callback para el mapa geográfico\n",
    "@app.callback(\n",
    "    Output('geo-map', 'figure'),\n",
    "    Input('geo-exposure', 'value')\n",
    ")\n",
    "def update_geo_map(exposure):\n",
    "    data = estudios[estudios['Exposure Measure'] == exposure]\n",
    "    fig = px.choropleth(\n",
    "        data,\n",
    "        locations='Country',\n",
    "        locationmode='country names',\n",
    "        color='N',\n",
    "        title=f\"Distribución geográfica de participantes para {exposure}\",\n",
    "        labels={'N': 'Número de Participantes', 'Country': 'País'}\n",
    "\t)\n",
    "    return fig\n",
    "\n",
    "\n",
    "port_range = range(8040, 8060)\n",
    "for port in port_range:\n",
    "\ttry:\n",
    "\t\tapp.run_server(port=port, debug=False)\n",
    "\t\tbreak\n",
    "\texcept OSError:\n",
    "\t\tcontinue\t"
   ]
  }
 ],
 "metadata": {
  "kernelspec": {
   "display_name": "env",
   "language": "python",
   "name": "python3"
  },
  "language_info": {
   "codemirror_mode": {
    "name": "ipython",
    "version": 3
   },
   "file_extension": ".py",
   "mimetype": "text/x-python",
   "name": "python",
   "nbconvert_exporter": "python",
   "pygments_lexer": "ipython3",
   "version": "3.13.1"
  }
 },
 "nbformat": 4,
 "nbformat_minor": 2
}
