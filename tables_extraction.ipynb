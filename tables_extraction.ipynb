{
 "cells": [
  {
   "cell_type": "code",
   "execution_count": null,
   "metadata": {},
   "outputs": [],
   "source": [
    "import pandas as pd\n",
    "import tabula\n",
    "import fitz\n",
    "from markitdown import MarkItDown\n",
    "import dash\n",
    "from dash import dcc, html\n",
    "from dash.dependencies import Input, Output\n",
    "import plotly.express as px\n",
    "from openai import OpenAI\n",
    "from dotenv import dotenv_values\n",
    "import os\n",
    "import re\n",
    "openai_key = dotenv_values(\".env\")[\"OPENAI_KEY\"]"
   ]
  },
  {
   "cell_type": "code",
   "execution_count": 2,
   "metadata": {},
   "outputs": [],
   "source": [
    "doc = fitz.open('pura073552.ww.pdf')\n",
    "\n",
    "page_range = range(35, 50)\n",
    "\n",
    "for page_num in page_range:\n",
    "\tpage = doc.load_page(page_num)\n",
    "\t\n",
    "\tnew_page_pdf = fitz.open()\n",
    "\tnew_page_pdf.insert_pdf(doc, from_page=page_num, to_page=page_num)\n",
    "\tpage_path = f'pages/temp_{page_num}.pdf'\n",
    "\tnew_page_pdf.save(page_path)\n",
    "\tnew_page_pdf.close()\n",
    "\n",
    "doc.close()\n",
    "\n",
    "client = OpenAI(api_key=openai_key)\n",
    "md = MarkItDown(llm_client=client, llm_model=\"gpt-4o\")\n",
    "\n",
    "files = sorted(list(map(lambda x: os.path.join(\"pages\", x), os.listdir(\"pages\"))))\n",
    "\n",
    "tables_text = \"\"\n",
    "\n",
    "for file in files:\n",
    "\ttext_result = md.convert(file).text_content\n",
    "\ttables_text += text_result + \"\\n\\n\"\n",
    "\n",
    "tables_text = tables_text.replace(\"Appendix 11. Characteristics of included studies\\n\\nTable A. Characteristics of included studies (n=126 studies; 338 datapoints)\\n\\n\", \"\")\n",
    "tables_text = tables_text.replace(\"’\", \"'\")\n",
    "tables_text = tables_text.replace('\"', '\"\"')"
   ]
  },
  {
   "cell_type": "code",
   "execution_count": null,
   "metadata": {},
   "outputs": [],
   "source": [
    "table_format = \"\"\"\n",
    "Author and Year;Study Design;Study Period;Country;Equity;Participants;Mean Age [Range];Risk of Bias;Number of dp;MA?;Exposure;Exposure Measure;Outcome Measure;N\n",
    "Anastario 2020;Cross-sectional;NR;USA;High income country;\"Youth attending 5 schools located on or near a tribal reservation in Montana\";\"15.7 [14-18]\";Mod;2;Yes;\"Freq. of SM use\";\"Freq. of using Twitter to talk or learn about sex or any topic related to sex\";\"No use of a condom at last sexual encounter\";146\n",
    "Anastario 2020;Cross-sectional;NR;USA;High income country;;\"15.7 [14-18]\";Mod;2;Yes;\"Freq. of SM use\";\"Freq. of using Facebook to talk or learn about sex or any topic related to sex\";\"No use of a condom at last sexual encounter\";146\n",
    "Baker 2016;Cross-sectional;2009;USA;High income country;\"Grade 6-12 urban school district students part of a federally funded project on school related initiatives\";NR;High;3;Yes;\"Freq. of SM use\";\"Freq. of SNS use\";\"Soft drug use (smoking, marijuana, alcohol) in the past month\";3195\n",
    "Baker 2016;Cross-sectional;2009;USA;High income country;;NR;High;3;Yes;\"Freq. of SNS use\";\"Hard drug use (lifetime and past year)\";\"\";3195\n",
    "\"\"\"\n",
    "\n",
    "stream = client.chat.completions.create(\n",
    "    model=\"gpt-4o\",\n",
    "    messages=[\n",
    "        {\n",
    "            \"role\": \"assistant\",\n",
    "            \"content\": \"You are a highly intelligent and detail-oriented assistant, capable of processing and formatting textual data into structured formats like CSV. Your role is to ensure that the output follows the user's exact specifications, preserving data integrity and adhering to formatting guidelines.\"\n",
    "        },\n",
    "        {\n",
    "            \"role\": \"user\",\n",
    "            \"content\": f\"\"\"\n",
    "Your task:\n",
    "You must format the following raw data into a valid CSV using this structure:\n",
    "{table_format}\n",
    "\n",
    "Instructions:\n",
    "1. Convert the provided text into CSV, ensuring all fields follow the structure above.\n",
    "2. Format all data into a single continuous table without blank lines between rows or skipped rows.\n",
    "3. Use \";\" as the delimiter for fields. Ensure proper escaping of quotes as required for CSV format (e.g., escape internal quotes with double quotes `\"\"`).\n",
    "4. Replicate the data for any rows that reuse fields from previous rows.\n",
    "\n",
    "Here is the data to process:\n",
    "{tables_text}\n",
    "\n",
    "The output must strictly follow the formatting rules described above. If you encounter inconsistencies, process the data as is, maintaining its structure and adhering to the CSV format rules.\n",
    "\"\"\"\n",
    "        }\n",
    "    ],\n",
    "    stream=True,\n",
    ")\n",
    "\n",
    "final_result = \"\"\n",
    "for chunk in stream:\n",
    "    if chunk.choices[0].delta.content is not None:\n",
    "        final_result += chunk.choices[0].delta.content\n",
    "        print(chunk.choices[0].delta.content, end=\"\")\n"
   ]
  },
  {
   "cell_type": "code",
   "execution_count": 13,
   "metadata": {},
   "outputs": [],
   "source": [
    "csv = re.search(r\"```csv(.*)```\", final_result, re.DOTALL).group(1)\n",
    "csv = csv.strip()\n",
    "\n",
    "with open(\"output_dataset/bmj_tables.csv\", \"w\") as f:\n",
    "\tf.write(csv)"
   ]
  }
 ],
 "metadata": {
  "kernelspec": {
   "display_name": "env",
   "language": "python",
   "name": "python3"
  },
  "language_info": {
   "codemirror_mode": {
    "name": "ipython",
    "version": 3
   },
   "file_extension": ".py",
   "mimetype": "text/x-python",
   "name": "python",
   "nbconvert_exporter": "python",
   "pygments_lexer": "ipython3",
   "version": "3.13.1"
  }
 },
 "nbformat": 4,
 "nbformat_minor": 2
}
